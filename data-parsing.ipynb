{
 "metadata": {
  "language_info": {
   "codemirror_mode": {
    "name": "ipython",
    "version": 3
   },
   "file_extension": ".py",
   "mimetype": "text/x-python",
   "name": "python",
   "nbconvert_exporter": "python",
   "pygments_lexer": "ipython3",
   "version": "3.8.3-final"
  },
  "orig_nbformat": 2,
  "kernelspec": {
   "name": "python38364bit093203a1fc624b1cab657f67554d31b3",
   "display_name": "Python 3.8.3 64-bit"
  }
 },
 "nbformat": 4,
 "nbformat_minor": 2,
 "cells": [
  {
   "cell_type": "code",
   "execution_count": 1,
   "metadata": {},
   "outputs": [],
   "source": [
    "import pandas as pd\n",
    "import numpy as np\n",
    "import matplotlib.pyplot as plt\n",
    "import matplotlib.ticker as ticker\n",
    "import seaborn as sns\n",
    "import datetime\n"
   ]
  },
  {
   "cell_type": "code",
   "execution_count": 2,
   "metadata": {},
   "outputs": [],
   "source": [
    "%matplotlib inline"
   ]
  },
  {
   "cell_type": "code",
   "execution_count": 3,
   "metadata": {},
   "outputs": [],
   "source": [
    "%config InlineBackend.figure_format = 'retina'"
   ]
  },
  {
   "cell_type": "code",
   "execution_count": 4,
   "metadata": {
    "tags": []
   },
   "outputs": [],
   "source": [
    "%load_ext autoreload"
   ]
  },
  {
   "cell_type": "code",
   "execution_count": 5,
   "metadata": {},
   "outputs": [],
   "source": [
    "%autoreload 1"
   ]
  },
  {
   "cell_type": "code",
   "execution_count": 6,
   "metadata": {},
   "outputs": [],
   "source": [
    "%aimport analysis"
   ]
  },
  {
   "cell_type": "code",
   "execution_count": 7,
   "metadata": {},
   "outputs": [],
   "source": [
    "conditions = pd.read_csv(\"conditions.csv\")\n",
    "patients = pd.read_csv(\"patients.csv\")\n",
    "observations = pd.read_csv(\"observations.csv\")\n",
    "care_plans = pd.read_csv(\"careplans.csv\")\n",
    "encounters = pd.read_csv(\"encounters.csv\")\n",
    "devices = pd.read_csv(\"devices.csv\")\n",
    "supplies = pd.read_csv('supplies.csv')\n",
    "procedures = pd.read_csv(\"procedures.csv\")\n",
    "medications = pd.read_csv(\"medications.csv\")"
   ]
  },
  {
   "cell_type": "code",
   "execution_count": 8,
   "metadata": {},
   "outputs": [
    {
     "output_type": "execute_result",
     "data": {
      "text/plain": "        START        STOP                               PATIENT  \\\n0  2019-02-15  2019-08-01  f0f3bc8d-ef38-49ce-a2bd-dfdda982b271   \n1  2019-10-30  2020-01-30  f0f3bc8d-ef38-49ce-a2bd-dfdda982b271   \n2  2020-03-01  2020-03-30  f0f3bc8d-ef38-49ce-a2bd-dfdda982b271   \n\n                              ENCOUNTER       CODE      DESCRIPTION  \n0  d5ee30a9-362f-429e-a87a-ee38d999b0a5   65363002     Otitis media  \n1  8bca6d8a-ab80-4cbf-8abb-46654235f227   65363002     Otitis media  \n2  681c380b-3c84-4c55-80a6-db3d9ea12fee  386661006  Fever (finding)  ",
      "text/html": "<div>\n<style scoped>\n    .dataframe tbody tr th:only-of-type {\n        vertical-align: middle;\n    }\n\n    .dataframe tbody tr th {\n        vertical-align: top;\n    }\n\n    .dataframe thead th {\n        text-align: right;\n    }\n</style>\n<table border=\"1\" class=\"dataframe\">\n  <thead>\n    <tr style=\"text-align: right;\">\n      <th></th>\n      <th>START</th>\n      <th>STOP</th>\n      <th>PATIENT</th>\n      <th>ENCOUNTER</th>\n      <th>CODE</th>\n      <th>DESCRIPTION</th>\n    </tr>\n  </thead>\n  <tbody>\n    <tr>\n      <th>0</th>\n      <td>2019-02-15</td>\n      <td>2019-08-01</td>\n      <td>f0f3bc8d-ef38-49ce-a2bd-dfdda982b271</td>\n      <td>d5ee30a9-362f-429e-a87a-ee38d999b0a5</td>\n      <td>65363002</td>\n      <td>Otitis media</td>\n    </tr>\n    <tr>\n      <th>1</th>\n      <td>2019-10-30</td>\n      <td>2020-01-30</td>\n      <td>f0f3bc8d-ef38-49ce-a2bd-dfdda982b271</td>\n      <td>8bca6d8a-ab80-4cbf-8abb-46654235f227</td>\n      <td>65363002</td>\n      <td>Otitis media</td>\n    </tr>\n    <tr>\n      <th>2</th>\n      <td>2020-03-01</td>\n      <td>2020-03-30</td>\n      <td>f0f3bc8d-ef38-49ce-a2bd-dfdda982b271</td>\n      <td>681c380b-3c84-4c55-80a6-db3d9ea12fee</td>\n      <td>386661006</td>\n      <td>Fever (finding)</td>\n    </tr>\n  </tbody>\n</table>\n</div>"
     },
     "metadata": {},
     "execution_count": 8
    }
   ],
   "source": [
    "conditions.head(3)"
   ]
  },
  {
   "cell_type": "code",
   "execution_count": 9,
   "metadata": {},
   "outputs": [],
   "source": [
    "covid_patient_ids = conditions[conditions.CODE == 840539006].PATIENT.unique()"
   ]
  },
  {
   "cell_type": "code",
   "execution_count": 10,
   "metadata": {},
   "outputs": [
    {
     "output_type": "execute_result",
     "data": {
      "text/plain": "8820"
     },
     "metadata": {},
     "execution_count": 10
    }
   ],
   "source": [
    "len(covid_patient_ids)"
   ]
  },
  {
   "cell_type": "code",
   "execution_count": 11,
   "metadata": {},
   "outputs": [],
   "source": [
    "deceased_patients = patients[patients.DEATHDATE.notna()].Id"
   ]
  },
  {
   "cell_type": "code",
   "execution_count": 12,
   "metadata": {},
   "outputs": [
    {
     "output_type": "execute_result",
     "data": {
      "text/plain": "2352"
     },
     "metadata": {},
     "execution_count": 12
    }
   ],
   "source": [
    "len(deceased_patients)"
   ]
  },
  {
   "cell_type": "code",
   "execution_count": 13,
   "metadata": {},
   "outputs": [],
   "source": [
    "deceased_patient_ids = deceased_patients.array.to_numpy()"
   ]
  },
  {
   "cell_type": "markdown",
   "metadata": {},
   "source": [
    "Find COVID-19 patients that have not died yet"
   ]
  },
  {
   "cell_type": "code",
   "execution_count": 14,
   "metadata": {},
   "outputs": [],
   "source": [
    "alive_covid_patients_id = np.setdiff1d(covid_patient_ids, deceased_patient_ids)"
   ]
  },
  {
   "cell_type": "code",
   "execution_count": 15,
   "metadata": {},
   "outputs": [],
   "source": [
    "conditions = conditions[conditions.PATIENT.isin(alive_covid_patients_id)]\n",
    "patients = patients[patients.Id.isin(alive_covid_patients_id)]\n",
    "observations = observations[observations.PATIENT.isin(alive_covid_patients_id)]\n",
    "care_plans = care_plans[care_plans.PATIENT.isin(alive_covid_patients_id)]\n",
    "encounters = encounters[encounters.PATIENT.isin(alive_covid_patients_id)]\n",
    "devices = devices[devices.PATIENT.isin(alive_covid_patients_id)]\n",
    "supplies = supplies[supplies.PATIENT.isin(alive_covid_patients_id)]\n",
    "procedures = procedures[procedures.PATIENT.isin(alive_covid_patients_id)]\n",
    "medications = medications[medications.PATIENT.isin(alive_covid_patients_id)]"
   ]
  },
  {
   "cell_type": "code",
   "execution_count": 16,
   "metadata": {
    "tags": []
   },
   "outputs": [],
   "source": [
    "conditions.to_csv('filtered_conditions.csv', index=False)\n",
    "patients.to_csv('filtered_patients.csv', index=False)\n",
    "observations.to_csv('filtered_observations.csv', index=False)\n",
    "care_plans.to_csv('filtered_care_plans.csv', index=False)\n",
    "encounters.to_csv('filtered_encounters.csv', index=False)\n",
    "devices.to_csv('filtered_devices.csv', index=False)\n",
    "supplies.to_csv('filtered_supplies.csv', index=False)\n",
    "procedures.to_csv('filtered_procedures.csv', index=False)\n",
    "medications.to_csv('filtered_medications.csv', index=False)\n"
   ]
  },
  {
   "cell_type": "code",
   "execution_count": 17,
   "metadata": {
    "tags": []
   },
   "outputs": [
    {
     "output_type": "stream",
     "name": "stdout",
     "text": "START        STOP                               PATIENT  \\\n0  2019-02-15  2019-08-01  f0f3bc8d-ef38-49ce-a2bd-dfdda982b271   \n\n                              ENCOUNTER      CODE   DESCRIPTION  \n0  d5ee30a9-362f-429e-a87a-ee38d999b0a5  65363002  Otitis media  \n"
    }
   ],
   "source": [
    "import category_encoders as ce\n",
    "print(conditions.head(1))\n",
    "conditionEncoder = ce.OneHotEncoder(cols=[\"DESCRIPTION\"], use_cat_names=True)"
   ]
  },
  {
   "cell_type": "code",
   "execution_count": 18,
   "metadata": {},
   "outputs": [],
   "source": [
    "encodedConditions = conditionEncoder.fit_transform(conditions['DESCRIPTION'])"
   ]
  },
  {
   "cell_type": "code",
   "execution_count": 19,
   "metadata": {},
   "outputs": [],
   "source": [
    "conditions = pd.concat([conditions, encodedConditions], axis=1)"
   ]
  },
  {
   "cell_type": "code",
   "execution_count": 20,
   "metadata": {},
   "outputs": [
    {
     "output_type": "execute_result",
     "data": {
      "text/plain": "                                      DESCRIPTION_Otitis media  \\\nPATIENT                                                          \n0000b247-1def-417a-a783-41c8682be022                         0   \n00049ee8-5953-4edd-a277-b9c1b1a7f16b                         0   \n\n                                      DESCRIPTION_Fever (finding)  \\\nPATIENT                                                             \n0000b247-1def-417a-a783-41c8682be022                            1   \n00049ee8-5953-4edd-a277-b9c1b1a7f16b                            1   \n\n                                      DESCRIPTION_Suspected COVID-19  \\\nPATIENT                                                                \n0000b247-1def-417a-a783-41c8682be022                               1   \n00049ee8-5953-4edd-a277-b9c1b1a7f16b                               1   \n\n                                      DESCRIPTION_COVID-19  \\\nPATIENT                                                      \n0000b247-1def-417a-a783-41c8682be022                     1   \n00049ee8-5953-4edd-a277-b9c1b1a7f16b                     1   \n\n                                      DESCRIPTION_Sprain of ankle  \\\nPATIENT                                                             \n0000b247-1def-417a-a783-41c8682be022                            0   \n00049ee8-5953-4edd-a277-b9c1b1a7f16b                            0   \n\n                                      DESCRIPTION_Cough (finding)  \\\nPATIENT                                                             \n0000b247-1def-417a-a783-41c8682be022                            1   \n00049ee8-5953-4edd-a277-b9c1b1a7f16b                            1   \n\n                                      DESCRIPTION_Sputum finding (finding)  \\\nPATIENT                                                                      \n0000b247-1def-417a-a783-41c8682be022                                     1   \n00049ee8-5953-4edd-a277-b9c1b1a7f16b                                     0   \n\n                                      DESCRIPTION_Diarrhea symptom (finding)  \\\nPATIENT                                                                        \n0000b247-1def-417a-a783-41c8682be022                                       0   \n00049ee8-5953-4edd-a277-b9c1b1a7f16b                                       0   \n\n                                      DESCRIPTION_Streptococcal sore throat (disorder)  \\\nPATIENT                                                                                  \n0000b247-1def-417a-a783-41c8682be022                                                 0   \n00049ee8-5953-4edd-a277-b9c1b1a7f16b                                                 0   \n\n                                      DESCRIPTION_Hypertension  ...  \\\nPATIENT                                                         ...   \n0000b247-1def-417a-a783-41c8682be022                         0  ...   \n00049ee8-5953-4edd-a277-b9c1b1a7f16b                         0  ...   \n\n                                      DESCRIPTION_Non-small cell carcinoma of lung  TNM stage 1 (disorder)  \\\nPATIENT                                                                                                      \n0000b247-1def-417a-a783-41c8682be022                                                  0                      \n00049ee8-5953-4edd-a277-b9c1b1a7f16b                                                  0                      \n\n                                      DESCRIPTION_Blindness due to type 2 diabetes mellitus (disorder)  \\\nPATIENT                                                                                                  \n0000b247-1def-417a-a783-41c8682be022                                                  0                  \n00049ee8-5953-4edd-a277-b9c1b1a7f16b                                                  0                  \n\n                                      DESCRIPTION_Male Infertility  \\\nPATIENT                                                              \n0000b247-1def-417a-a783-41c8682be022                             0   \n00049ee8-5953-4edd-a277-b9c1b1a7f16b                             0   \n\n                                      DESCRIPTION_Cystic Fibrosis  \\\nPATIENT                                                             \n0000b247-1def-417a-a783-41c8682be022                            0   \n00049ee8-5953-4edd-a277-b9c1b1a7f16b                            0   \n\n                                      DESCRIPTION_History of amputation of foot (situation)  \\\nPATIENT                                                                                       \n0000b247-1def-417a-a783-41c8682be022                                                  0       \n00049ee8-5953-4edd-a277-b9c1b1a7f16b                                                  0       \n\n                                      DESCRIPTION_Third degree burn  \\\nPATIENT                                                               \n0000b247-1def-417a-a783-41c8682be022                              0   \n00049ee8-5953-4edd-a277-b9c1b1a7f16b                              0   \n\n                                      DESCRIPTION_Acute Cholecystitis  \\\nPATIENT                                                                 \n0000b247-1def-417a-a783-41c8682be022                                0   \n00049ee8-5953-4edd-a277-b9c1b1a7f16b                                0   \n\n                                      DESCRIPTION_Cholelithiasis  \\\nPATIENT                                                            \n0000b247-1def-417a-a783-41c8682be022                           0   \n00049ee8-5953-4edd-a277-b9c1b1a7f16b                           0   \n\n                                      DESCRIPTION_Traumatic brain injury (disorder)  \\\nPATIENT                                                                               \n0000b247-1def-417a-a783-41c8682be022                                              0   \n00049ee8-5953-4edd-a277-b9c1b1a7f16b                                              0   \n\n                                      DESCRIPTION_Injury of kidney (disorder)  \nPATIENT                                                                        \n0000b247-1def-417a-a783-41c8682be022                                        0  \n00049ee8-5953-4edd-a277-b9c1b1a7f16b                                        0  \n\n[2 rows x 172 columns]",
      "text/html": "<div>\n<style scoped>\n    .dataframe tbody tr th:only-of-type {\n        vertical-align: middle;\n    }\n\n    .dataframe tbody tr th {\n        vertical-align: top;\n    }\n\n    .dataframe thead th {\n        text-align: right;\n    }\n</style>\n<table border=\"1\" class=\"dataframe\">\n  <thead>\n    <tr style=\"text-align: right;\">\n      <th></th>\n      <th>DESCRIPTION_Otitis media</th>\n      <th>DESCRIPTION_Fever (finding)</th>\n      <th>DESCRIPTION_Suspected COVID-19</th>\n      <th>DESCRIPTION_COVID-19</th>\n      <th>DESCRIPTION_Sprain of ankle</th>\n      <th>DESCRIPTION_Cough (finding)</th>\n      <th>DESCRIPTION_Sputum finding (finding)</th>\n      <th>DESCRIPTION_Diarrhea symptom (finding)</th>\n      <th>DESCRIPTION_Streptococcal sore throat (disorder)</th>\n      <th>DESCRIPTION_Hypertension</th>\n      <th>...</th>\n      <th>DESCRIPTION_Non-small cell carcinoma of lung  TNM stage 1 (disorder)</th>\n      <th>DESCRIPTION_Blindness due to type 2 diabetes mellitus (disorder)</th>\n      <th>DESCRIPTION_Male Infertility</th>\n      <th>DESCRIPTION_Cystic Fibrosis</th>\n      <th>DESCRIPTION_History of amputation of foot (situation)</th>\n      <th>DESCRIPTION_Third degree burn</th>\n      <th>DESCRIPTION_Acute Cholecystitis</th>\n      <th>DESCRIPTION_Cholelithiasis</th>\n      <th>DESCRIPTION_Traumatic brain injury (disorder)</th>\n      <th>DESCRIPTION_Injury of kidney (disorder)</th>\n    </tr>\n    <tr>\n      <th>PATIENT</th>\n      <th></th>\n      <th></th>\n      <th></th>\n      <th></th>\n      <th></th>\n      <th></th>\n      <th></th>\n      <th></th>\n      <th></th>\n      <th></th>\n      <th></th>\n      <th></th>\n      <th></th>\n      <th></th>\n      <th></th>\n      <th></th>\n      <th></th>\n      <th></th>\n      <th></th>\n      <th></th>\n      <th></th>\n    </tr>\n  </thead>\n  <tbody>\n    <tr>\n      <th>0000b247-1def-417a-a783-41c8682be022</th>\n      <td>0</td>\n      <td>1</td>\n      <td>1</td>\n      <td>1</td>\n      <td>0</td>\n      <td>1</td>\n      <td>1</td>\n      <td>0</td>\n      <td>0</td>\n      <td>0</td>\n      <td>...</td>\n      <td>0</td>\n      <td>0</td>\n      <td>0</td>\n      <td>0</td>\n      <td>0</td>\n      <td>0</td>\n      <td>0</td>\n      <td>0</td>\n      <td>0</td>\n      <td>0</td>\n    </tr>\n    <tr>\n      <th>00049ee8-5953-4edd-a277-b9c1b1a7f16b</th>\n      <td>0</td>\n      <td>1</td>\n      <td>1</td>\n      <td>1</td>\n      <td>0</td>\n      <td>1</td>\n      <td>0</td>\n      <td>0</td>\n      <td>0</td>\n      <td>0</td>\n      <td>...</td>\n      <td>0</td>\n      <td>0</td>\n      <td>0</td>\n      <td>0</td>\n      <td>0</td>\n      <td>0</td>\n      <td>0</td>\n      <td>0</td>\n      <td>0</td>\n      <td>0</td>\n    </tr>\n  </tbody>\n</table>\n<p>2 rows × 172 columns</p>\n</div>"
     },
     "metadata": {},
     "execution_count": 20
    }
   ],
   "source": [
    "aggregated_conditions = conditions.groupby('PATIENT').agg(sum)\n",
    "aggregated_conditions = aggregated_conditions.drop(columns=['CODE'])\n",
    "aggregated_conditions.head(2)"
   ]
  },
  {
   "cell_type": "markdown",
   "metadata": {},
   "source": [
    "Encode patient data"
   ]
  },
  {
   "cell_type": "code",
   "execution_count": 21,
   "metadata": {
    "tags": []
   },
   "outputs": [
    {
     "output_type": "execute_result",
     "data": {
      "text/plain": "                                     Id   BIRTHDATE DEATHDATE          SSN  \\\n0  f0f3bc8d-ef38-49ce-a2bd-dfdda982b271  2017-08-24       NaN  999-68-6630   \n1  067318a4-db8f-447f-8b6e-f2f61e9baaa5  2016-08-01       NaN  999-15-5895   \n\n  DRIVERS PASSPORT PREFIX       FIRST        LAST SUFFIX  ...  \\\n0     NaN      NaN    NaN  Jacinto644     Kris249    NaN  ...   \n1     NaN      NaN    NaN     Alva958  Krajcik437    NaN  ...   \n\n                     ADDRESS         CITY          STATE          COUNTY  \\\n0  888 Hickle Ferry Suite 38  Springfield  Massachusetts  Hampden County   \n1        1048 Skiles Trailer      Walpole  Massachusetts  Norfolk County   \n\n      ZIP        LAT        LON HEALTHCARE_EXPENSES HEALTHCARE_COVERAGE  AGE  \n0  1106.0  42.151961 -72.598959             8446.49             1499.08  3.0  \n1  2081.0  42.177370 -71.281353            89893.40             1845.72  4.0  \n\n[2 rows x 26 columns]",
      "text/html": "<div>\n<style scoped>\n    .dataframe tbody tr th:only-of-type {\n        vertical-align: middle;\n    }\n\n    .dataframe tbody tr th {\n        vertical-align: top;\n    }\n\n    .dataframe thead th {\n        text-align: right;\n    }\n</style>\n<table border=\"1\" class=\"dataframe\">\n  <thead>\n    <tr style=\"text-align: right;\">\n      <th></th>\n      <th>Id</th>\n      <th>BIRTHDATE</th>\n      <th>DEATHDATE</th>\n      <th>SSN</th>\n      <th>DRIVERS</th>\n      <th>PASSPORT</th>\n      <th>PREFIX</th>\n      <th>FIRST</th>\n      <th>LAST</th>\n      <th>SUFFIX</th>\n      <th>...</th>\n      <th>ADDRESS</th>\n      <th>CITY</th>\n      <th>STATE</th>\n      <th>COUNTY</th>\n      <th>ZIP</th>\n      <th>LAT</th>\n      <th>LON</th>\n      <th>HEALTHCARE_EXPENSES</th>\n      <th>HEALTHCARE_COVERAGE</th>\n      <th>AGE</th>\n    </tr>\n  </thead>\n  <tbody>\n    <tr>\n      <th>0</th>\n      <td>f0f3bc8d-ef38-49ce-a2bd-dfdda982b271</td>\n      <td>2017-08-24</td>\n      <td>NaN</td>\n      <td>999-68-6630</td>\n      <td>NaN</td>\n      <td>NaN</td>\n      <td>NaN</td>\n      <td>Jacinto644</td>\n      <td>Kris249</td>\n      <td>NaN</td>\n      <td>...</td>\n      <td>888 Hickle Ferry Suite 38</td>\n      <td>Springfield</td>\n      <td>Massachusetts</td>\n      <td>Hampden County</td>\n      <td>1106.0</td>\n      <td>42.151961</td>\n      <td>-72.598959</td>\n      <td>8446.49</td>\n      <td>1499.08</td>\n      <td>3.0</td>\n    </tr>\n    <tr>\n      <th>1</th>\n      <td>067318a4-db8f-447f-8b6e-f2f61e9baaa5</td>\n      <td>2016-08-01</td>\n      <td>NaN</td>\n      <td>999-15-5895</td>\n      <td>NaN</td>\n      <td>NaN</td>\n      <td>NaN</td>\n      <td>Alva958</td>\n      <td>Krajcik437</td>\n      <td>NaN</td>\n      <td>...</td>\n      <td>1048 Skiles Trailer</td>\n      <td>Walpole</td>\n      <td>Massachusetts</td>\n      <td>Norfolk County</td>\n      <td>2081.0</td>\n      <td>42.177370</td>\n      <td>-71.281353</td>\n      <td>89893.40</td>\n      <td>1845.72</td>\n      <td>4.0</td>\n    </tr>\n  </tbody>\n</table>\n<p>2 rows × 26 columns</p>\n</div>"
     },
     "metadata": {},
     "execution_count": 21
    }
   ],
   "source": [
    "now = pd.to_datetime('now')\n",
    "patients['AGE'] = ((now - pd.to_datetime(patients['BIRTHDATE'])).astype('<m8[Y]'))\n",
    "patients.head(2)"
   ]
  },
  {
   "cell_type": "code",
   "execution_count": 22,
   "metadata": {},
   "outputs": [
    {
     "output_type": "execute_result",
     "data": {
      "text/plain": "   RACE_white  RACE_native  RACE_asian  RACE_black  RACE_other\n0           1            0           0           0           0\n1           1            0           0           0           0",
      "text/html": "<div>\n<style scoped>\n    .dataframe tbody tr th:only-of-type {\n        vertical-align: middle;\n    }\n\n    .dataframe tbody tr th {\n        vertical-align: top;\n    }\n\n    .dataframe thead th {\n        text-align: right;\n    }\n</style>\n<table border=\"1\" class=\"dataframe\">\n  <thead>\n    <tr style=\"text-align: right;\">\n      <th></th>\n      <th>RACE_white</th>\n      <th>RACE_native</th>\n      <th>RACE_asian</th>\n      <th>RACE_black</th>\n      <th>RACE_other</th>\n    </tr>\n  </thead>\n  <tbody>\n    <tr>\n      <th>0</th>\n      <td>1</td>\n      <td>0</td>\n      <td>0</td>\n      <td>0</td>\n      <td>0</td>\n    </tr>\n    <tr>\n      <th>1</th>\n      <td>1</td>\n      <td>0</td>\n      <td>0</td>\n      <td>0</td>\n      <td>0</td>\n    </tr>\n  </tbody>\n</table>\n</div>"
     },
     "metadata": {},
     "execution_count": 22
    }
   ],
   "source": [
    "patientRaceEncoder = ce.OneHotEncoder(cols=[\"RACE\"], use_cat_names=True)\n",
    "encodedPatients = patientRaceEncoder.fit_transform(patients['RACE'])\n",
    "encodedPatients.head(2)"
   ]
  },
  {
   "cell_type": "code",
   "execution_count": 23,
   "metadata": {},
   "outputs": [],
   "source": [
    "patients = pd.concat([patients, encodedPatients], axis=1)"
   ]
  },
  {
   "cell_type": "code",
   "execution_count": 24,
   "metadata": {},
   "outputs": [
    {
     "output_type": "execute_result",
     "data": {
      "text/plain": "                                     Id   BIRTHDATE DEATHDATE          SSN  \\\n0  f0f3bc8d-ef38-49ce-a2bd-dfdda982b271  2017-08-24       NaN  999-68-6630   \n1  067318a4-db8f-447f-8b6e-f2f61e9baaa5  2016-08-01       NaN  999-15-5895   \n\n  DRIVERS PASSPORT PREFIX       FIRST        LAST SUFFIX  ...        LAT  \\\n0     NaN      NaN    NaN  Jacinto644     Kris249    NaN  ...  42.151961   \n1     NaN      NaN    NaN     Alva958  Krajcik437    NaN  ...  42.177370   \n\n         LON HEALTHCARE_EXPENSES HEALTHCARE_COVERAGE  AGE RACE_white  \\\n0 -72.598959             8446.49             1499.08  3.0          1   \n1 -71.281353            89893.40             1845.72  4.0          1   \n\n  RACE_native RACE_asian RACE_black RACE_other  \n0           0          0          0          0  \n1           0          0          0          0  \n\n[2 rows x 31 columns]",
      "text/html": "<div>\n<style scoped>\n    .dataframe tbody tr th:only-of-type {\n        vertical-align: middle;\n    }\n\n    .dataframe tbody tr th {\n        vertical-align: top;\n    }\n\n    .dataframe thead th {\n        text-align: right;\n    }\n</style>\n<table border=\"1\" class=\"dataframe\">\n  <thead>\n    <tr style=\"text-align: right;\">\n      <th></th>\n      <th>Id</th>\n      <th>BIRTHDATE</th>\n      <th>DEATHDATE</th>\n      <th>SSN</th>\n      <th>DRIVERS</th>\n      <th>PASSPORT</th>\n      <th>PREFIX</th>\n      <th>FIRST</th>\n      <th>LAST</th>\n      <th>SUFFIX</th>\n      <th>...</th>\n      <th>LAT</th>\n      <th>LON</th>\n      <th>HEALTHCARE_EXPENSES</th>\n      <th>HEALTHCARE_COVERAGE</th>\n      <th>AGE</th>\n      <th>RACE_white</th>\n      <th>RACE_native</th>\n      <th>RACE_asian</th>\n      <th>RACE_black</th>\n      <th>RACE_other</th>\n    </tr>\n  </thead>\n  <tbody>\n    <tr>\n      <th>0</th>\n      <td>f0f3bc8d-ef38-49ce-a2bd-dfdda982b271</td>\n      <td>2017-08-24</td>\n      <td>NaN</td>\n      <td>999-68-6630</td>\n      <td>NaN</td>\n      <td>NaN</td>\n      <td>NaN</td>\n      <td>Jacinto644</td>\n      <td>Kris249</td>\n      <td>NaN</td>\n      <td>...</td>\n      <td>42.151961</td>\n      <td>-72.598959</td>\n      <td>8446.49</td>\n      <td>1499.08</td>\n      <td>3.0</td>\n      <td>1</td>\n      <td>0</td>\n      <td>0</td>\n      <td>0</td>\n      <td>0</td>\n    </tr>\n    <tr>\n      <th>1</th>\n      <td>067318a4-db8f-447f-8b6e-f2f61e9baaa5</td>\n      <td>2016-08-01</td>\n      <td>NaN</td>\n      <td>999-15-5895</td>\n      <td>NaN</td>\n      <td>NaN</td>\n      <td>NaN</td>\n      <td>Alva958</td>\n      <td>Krajcik437</td>\n      <td>NaN</td>\n      <td>...</td>\n      <td>42.177370</td>\n      <td>-71.281353</td>\n      <td>89893.40</td>\n      <td>1845.72</td>\n      <td>4.0</td>\n      <td>1</td>\n      <td>0</td>\n      <td>0</td>\n      <td>0</td>\n      <td>0</td>\n    </tr>\n  </tbody>\n</table>\n<p>2 rows × 31 columns</p>\n</div>"
     },
     "metadata": {},
     "execution_count": 24
    }
   ],
   "source": [
    "patients.head(2)"
   ]
  },
  {
   "cell_type": "markdown",
   "metadata": {},
   "source": [
    "Merge Conditions and Patient details"
   ]
  },
  {
   "cell_type": "code",
   "execution_count": 41,
   "metadata": {},
   "outputs": [
    {
     "output_type": "execute_result",
     "data": {
      "text/plain": "                                     Id  AGE\n0  f0f3bc8d-ef38-49ce-a2bd-dfdda982b271  3.0\n1  067318a4-db8f-447f-8b6e-f2f61e9baaa5  4.0",
      "text/html": "<div>\n<style scoped>\n    .dataframe tbody tr th:only-of-type {\n        vertical-align: middle;\n    }\n\n    .dataframe tbody tr th {\n        vertical-align: top;\n    }\n\n    .dataframe thead th {\n        text-align: right;\n    }\n</style>\n<table border=\"1\" class=\"dataframe\">\n  <thead>\n    <tr style=\"text-align: right;\">\n      <th></th>\n      <th>Id</th>\n      <th>AGE</th>\n    </tr>\n  </thead>\n  <tbody>\n    <tr>\n      <th>0</th>\n      <td>f0f3bc8d-ef38-49ce-a2bd-dfdda982b271</td>\n      <td>3.0</td>\n    </tr>\n    <tr>\n      <th>1</th>\n      <td>067318a4-db8f-447f-8b6e-f2f61e9baaa5</td>\n      <td>4.0</td>\n    </tr>\n  </tbody>\n</table>\n</div>"
     },
     "metadata": {},
     "execution_count": 41
    }
   ],
   "source": [
    "patient_age = patients.drop(patients.columns.difference(['Id', 'AGE']), axis=1)\n",
    "patient_age.head(2)"
   ]
  },
  {
   "cell_type": "code",
   "execution_count": 42,
   "metadata": {},
   "outputs": [
    {
     "output_type": "execute_result",
     "data": {
      "text/plain": "199"
     },
     "metadata": {},
     "execution_count": 42
    }
   ],
   "source": [
    "observations = observations[observations.TYPE != 'text']\n",
    "unique_obs = observations.DESCRIPTION.unique()\n",
    "len(unique_obs)"
   ]
  },
  {
   "cell_type": "code",
   "execution_count": null,
   "metadata": {},
   "outputs": [],
   "source": []
  }
 ]
}