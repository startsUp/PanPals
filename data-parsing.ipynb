{
 "metadata": {
  "language_info": {
   "codemirror_mode": {
    "name": "ipython",
    "version": 3
   },
   "file_extension": ".py",
   "mimetype": "text/x-python",
   "name": "python",
   "nbconvert_exporter": "python",
   "pygments_lexer": "ipython3",
   "version": "3.8.3-final"
  },
  "orig_nbformat": 2,
  "kernelspec": {
   "name": "python38364bit093203a1fc624b1cab657f67554d31b3",
   "display_name": "Python 3.8.3 64-bit"
  }
 },
 "nbformat": 4,
 "nbformat_minor": 2,
 "cells": [
  {
   "cell_type": "code",
   "execution_count": 157,
   "metadata": {},
   "outputs": [],
   "source": [
    "import pandas as pd\n",
    "import numpy as np\n",
    "import matplotlib.pyplot as plt\n",
    "import matplotlib.ticker as ticker\n",
    "import seaborn as sns\n",
    "import datetime\n"
   ]
  },
  {
   "cell_type": "code",
   "execution_count": 158,
   "metadata": {},
   "outputs": [],
   "source": [
    "%matplotlib inline"
   ]
  },
  {
   "cell_type": "code",
   "execution_count": 159,
   "metadata": {},
   "outputs": [],
   "source": [
    "%config InlineBackend.figure_format = 'retina'"
   ]
  },
  {
   "cell_type": "code",
   "execution_count": 160,
   "metadata": {
    "tags": []
   },
   "outputs": [
    {
     "output_type": "stream",
     "name": "stdout",
     "text": "The autoreload extension is already loaded. To reload it, use:\n  %reload_ext autoreload\n"
    }
   ],
   "source": [
    "%load_ext autoreload"
   ]
  },
  {
   "cell_type": "code",
   "execution_count": 161,
   "metadata": {},
   "outputs": [],
   "source": [
    "%autoreload 1"
   ]
  },
  {
   "cell_type": "code",
   "execution_count": 162,
   "metadata": {},
   "outputs": [],
   "source": [
    "%aimport analysis"
   ]
  },
  {
   "cell_type": "code",
   "execution_count": 163,
   "metadata": {},
   "outputs": [
    {
     "output_type": "error",
     "ename": "KeyboardInterrupt",
     "evalue": "",
     "traceback": [
      "\u001b[1;31m---------------------------------------------------------------------------\u001b[0m",
      "\u001b[1;31mKeyboardInterrupt\u001b[0m                         Traceback (most recent call last)",
      "\u001b[1;32m<ipython-input-163-92dcbeec8a65>\u001b[0m in \u001b[0;36m<module>\u001b[1;34m\u001b[0m\n\u001b[0;32m      3\u001b[0m \u001b[0mobservations\u001b[0m \u001b[1;33m=\u001b[0m \u001b[0mpd\u001b[0m\u001b[1;33m.\u001b[0m\u001b[0mread_csv\u001b[0m\u001b[1;33m(\u001b[0m\u001b[1;34m\"observations.csv\"\u001b[0m\u001b[1;33m)\u001b[0m\u001b[1;33m\u001b[0m\u001b[1;33m\u001b[0m\u001b[0m\n\u001b[0;32m      4\u001b[0m \u001b[0mcare_plans\u001b[0m \u001b[1;33m=\u001b[0m \u001b[0mpd\u001b[0m\u001b[1;33m.\u001b[0m\u001b[0mread_csv\u001b[0m\u001b[1;33m(\u001b[0m\u001b[1;34m\"careplans.csv\"\u001b[0m\u001b[1;33m)\u001b[0m\u001b[1;33m\u001b[0m\u001b[1;33m\u001b[0m\u001b[0m\n\u001b[1;32m----> 5\u001b[1;33m \u001b[0mencounters\u001b[0m \u001b[1;33m=\u001b[0m \u001b[0mpd\u001b[0m\u001b[1;33m.\u001b[0m\u001b[0mread_csv\u001b[0m\u001b[1;33m(\u001b[0m\u001b[1;34m\"encounters.csv\"\u001b[0m\u001b[1;33m)\u001b[0m\u001b[1;33m\u001b[0m\u001b[1;33m\u001b[0m\u001b[0m\n\u001b[0m\u001b[0;32m      6\u001b[0m \u001b[0mdevices\u001b[0m \u001b[1;33m=\u001b[0m \u001b[0mpd\u001b[0m\u001b[1;33m.\u001b[0m\u001b[0mread_csv\u001b[0m\u001b[1;33m(\u001b[0m\u001b[1;34m\"devices.csv\"\u001b[0m\u001b[1;33m)\u001b[0m\u001b[1;33m\u001b[0m\u001b[1;33m\u001b[0m\u001b[0m\n\u001b[0;32m      7\u001b[0m \u001b[0msupplies\u001b[0m \u001b[1;33m=\u001b[0m \u001b[0mpd\u001b[0m\u001b[1;33m.\u001b[0m\u001b[0mread_csv\u001b[0m\u001b[1;33m(\u001b[0m\u001b[1;34m'supplies.csv'\u001b[0m\u001b[1;33m)\u001b[0m\u001b[1;33m\u001b[0m\u001b[1;33m\u001b[0m\u001b[0m\n",
      "\u001b[1;32m~\\AppData\\Local\\Programs\\Python\\Python38\\lib\\site-packages\\pandas\\io\\parsers.py\u001b[0m in \u001b[0;36mparser_f\u001b[1;34m(filepath_or_buffer, sep, delimiter, header, names, index_col, usecols, squeeze, prefix, mangle_dupe_cols, dtype, engine, converters, true_values, false_values, skipinitialspace, skiprows, skipfooter, nrows, na_values, keep_default_na, na_filter, verbose, skip_blank_lines, parse_dates, infer_datetime_format, keep_date_col, date_parser, dayfirst, cache_dates, iterator, chunksize, compression, thousands, decimal, lineterminator, quotechar, quoting, doublequote, escapechar, comment, encoding, dialect, error_bad_lines, warn_bad_lines, delim_whitespace, low_memory, memory_map, float_precision)\u001b[0m\n\u001b[0;32m    674\u001b[0m         )\n\u001b[0;32m    675\u001b[0m \u001b[1;33m\u001b[0m\u001b[0m\n\u001b[1;32m--> 676\u001b[1;33m         \u001b[1;32mreturn\u001b[0m \u001b[0m_read\u001b[0m\u001b[1;33m(\u001b[0m\u001b[0mfilepath_or_buffer\u001b[0m\u001b[1;33m,\u001b[0m \u001b[0mkwds\u001b[0m\u001b[1;33m)\u001b[0m\u001b[1;33m\u001b[0m\u001b[1;33m\u001b[0m\u001b[0m\n\u001b[0m\u001b[0;32m    677\u001b[0m \u001b[1;33m\u001b[0m\u001b[0m\n\u001b[0;32m    678\u001b[0m     \u001b[0mparser_f\u001b[0m\u001b[1;33m.\u001b[0m\u001b[0m__name__\u001b[0m \u001b[1;33m=\u001b[0m \u001b[0mname\u001b[0m\u001b[1;33m\u001b[0m\u001b[1;33m\u001b[0m\u001b[0m\n",
      "\u001b[1;32m~\\AppData\\Local\\Programs\\Python\\Python38\\lib\\site-packages\\pandas\\io\\parsers.py\u001b[0m in \u001b[0;36m_read\u001b[1;34m(filepath_or_buffer, kwds)\u001b[0m\n\u001b[0;32m    452\u001b[0m \u001b[1;33m\u001b[0m\u001b[0m\n\u001b[0;32m    453\u001b[0m     \u001b[1;32mtry\u001b[0m\u001b[1;33m:\u001b[0m\u001b[1;33m\u001b[0m\u001b[1;33m\u001b[0m\u001b[0m\n\u001b[1;32m--> 454\u001b[1;33m         \u001b[0mdata\u001b[0m \u001b[1;33m=\u001b[0m \u001b[0mparser\u001b[0m\u001b[1;33m.\u001b[0m\u001b[0mread\u001b[0m\u001b[1;33m(\u001b[0m\u001b[0mnrows\u001b[0m\u001b[1;33m)\u001b[0m\u001b[1;33m\u001b[0m\u001b[1;33m\u001b[0m\u001b[0m\n\u001b[0m\u001b[0;32m    455\u001b[0m     \u001b[1;32mfinally\u001b[0m\u001b[1;33m:\u001b[0m\u001b[1;33m\u001b[0m\u001b[1;33m\u001b[0m\u001b[0m\n\u001b[0;32m    456\u001b[0m         \u001b[0mparser\u001b[0m\u001b[1;33m.\u001b[0m\u001b[0mclose\u001b[0m\u001b[1;33m(\u001b[0m\u001b[1;33m)\u001b[0m\u001b[1;33m\u001b[0m\u001b[1;33m\u001b[0m\u001b[0m\n",
      "\u001b[1;32m~\\AppData\\Local\\Programs\\Python\\Python38\\lib\\site-packages\\pandas\\io\\parsers.py\u001b[0m in \u001b[0;36mread\u001b[1;34m(self, nrows)\u001b[0m\n\u001b[0;32m   1131\u001b[0m     \u001b[1;32mdef\u001b[0m \u001b[0mread\u001b[0m\u001b[1;33m(\u001b[0m\u001b[0mself\u001b[0m\u001b[1;33m,\u001b[0m \u001b[0mnrows\u001b[0m\u001b[1;33m=\u001b[0m\u001b[1;32mNone\u001b[0m\u001b[1;33m)\u001b[0m\u001b[1;33m:\u001b[0m\u001b[1;33m\u001b[0m\u001b[1;33m\u001b[0m\u001b[0m\n\u001b[0;32m   1132\u001b[0m         \u001b[0mnrows\u001b[0m \u001b[1;33m=\u001b[0m \u001b[0m_validate_integer\u001b[0m\u001b[1;33m(\u001b[0m\u001b[1;34m\"nrows\"\u001b[0m\u001b[1;33m,\u001b[0m \u001b[0mnrows\u001b[0m\u001b[1;33m)\u001b[0m\u001b[1;33m\u001b[0m\u001b[1;33m\u001b[0m\u001b[0m\n\u001b[1;32m-> 1133\u001b[1;33m         \u001b[0mret\u001b[0m \u001b[1;33m=\u001b[0m \u001b[0mself\u001b[0m\u001b[1;33m.\u001b[0m\u001b[0m_engine\u001b[0m\u001b[1;33m.\u001b[0m\u001b[0mread\u001b[0m\u001b[1;33m(\u001b[0m\u001b[0mnrows\u001b[0m\u001b[1;33m)\u001b[0m\u001b[1;33m\u001b[0m\u001b[1;33m\u001b[0m\u001b[0m\n\u001b[0m\u001b[0;32m   1134\u001b[0m \u001b[1;33m\u001b[0m\u001b[0m\n\u001b[0;32m   1135\u001b[0m         \u001b[1;31m# May alter columns / col_dict\u001b[0m\u001b[1;33m\u001b[0m\u001b[1;33m\u001b[0m\u001b[1;33m\u001b[0m\u001b[0m\n",
      "\u001b[1;32m~\\AppData\\Local\\Programs\\Python\\Python38\\lib\\site-packages\\pandas\\io\\parsers.py\u001b[0m in \u001b[0;36mread\u001b[1;34m(self, nrows)\u001b[0m\n\u001b[0;32m   2035\u001b[0m     \u001b[1;32mdef\u001b[0m \u001b[0mread\u001b[0m\u001b[1;33m(\u001b[0m\u001b[0mself\u001b[0m\u001b[1;33m,\u001b[0m \u001b[0mnrows\u001b[0m\u001b[1;33m=\u001b[0m\u001b[1;32mNone\u001b[0m\u001b[1;33m)\u001b[0m\u001b[1;33m:\u001b[0m\u001b[1;33m\u001b[0m\u001b[1;33m\u001b[0m\u001b[0m\n\u001b[0;32m   2036\u001b[0m         \u001b[1;32mtry\u001b[0m\u001b[1;33m:\u001b[0m\u001b[1;33m\u001b[0m\u001b[1;33m\u001b[0m\u001b[0m\n\u001b[1;32m-> 2037\u001b[1;33m             \u001b[0mdata\u001b[0m \u001b[1;33m=\u001b[0m \u001b[0mself\u001b[0m\u001b[1;33m.\u001b[0m\u001b[0m_reader\u001b[0m\u001b[1;33m.\u001b[0m\u001b[0mread\u001b[0m\u001b[1;33m(\u001b[0m\u001b[0mnrows\u001b[0m\u001b[1;33m)\u001b[0m\u001b[1;33m\u001b[0m\u001b[1;33m\u001b[0m\u001b[0m\n\u001b[0m\u001b[0;32m   2038\u001b[0m         \u001b[1;32mexcept\u001b[0m \u001b[0mStopIteration\u001b[0m\u001b[1;33m:\u001b[0m\u001b[1;33m\u001b[0m\u001b[1;33m\u001b[0m\u001b[0m\n\u001b[0;32m   2039\u001b[0m             \u001b[1;32mif\u001b[0m \u001b[0mself\u001b[0m\u001b[1;33m.\u001b[0m\u001b[0m_first_chunk\u001b[0m\u001b[1;33m:\u001b[0m\u001b[1;33m\u001b[0m\u001b[1;33m\u001b[0m\u001b[0m\n",
      "\u001b[1;32mpandas\\_libs\\parsers.pyx\u001b[0m in \u001b[0;36mpandas._libs.parsers.TextReader.read\u001b[1;34m()\u001b[0m\n",
      "\u001b[1;32mpandas\\_libs\\parsers.pyx\u001b[0m in \u001b[0;36mpandas._libs.parsers.TextReader._read_low_memory\u001b[1;34m()\u001b[0m\n",
      "\u001b[1;32mpandas\\_libs\\parsers.pyx\u001b[0m in \u001b[0;36mpandas._libs.parsers.TextReader._read_rows\u001b[1;34m()\u001b[0m\n",
      "\u001b[1;32mpandas\\_libs\\parsers.pyx\u001b[0m in \u001b[0;36mpandas._libs.parsers.TextReader._convert_column_data\u001b[1;34m()\u001b[0m\n",
      "\u001b[1;32mpandas\\_libs\\parsers.pyx\u001b[0m in \u001b[0;36mpandas._libs.parsers.TextReader._convert_tokens\u001b[1;34m()\u001b[0m\n",
      "\u001b[1;32mpandas\\_libs\\parsers.pyx\u001b[0m in \u001b[0;36mpandas._libs.parsers.TextReader._convert_with_dtype\u001b[1;34m()\u001b[0m\n",
      "\u001b[1;32m~\\AppData\\Local\\Programs\\Python\\Python38\\lib\\site-packages\\pandas\\core\\dtypes\\common.py\u001b[0m in \u001b[0;36mis_categorical_dtype\u001b[1;34m(arr_or_dtype)\u001b[0m\n\u001b[0;32m    540\u001b[0m \u001b[1;33m\u001b[0m\u001b[0m\n\u001b[0;32m    541\u001b[0m \u001b[1;33m\u001b[0m\u001b[0m\n\u001b[1;32m--> 542\u001b[1;33m \u001b[1;32mdef\u001b[0m \u001b[0mis_categorical_dtype\u001b[0m\u001b[1;33m(\u001b[0m\u001b[0marr_or_dtype\u001b[0m\u001b[1;33m)\u001b[0m \u001b[1;33m->\u001b[0m \u001b[0mbool\u001b[0m\u001b[1;33m:\u001b[0m\u001b[1;33m\u001b[0m\u001b[1;33m\u001b[0m\u001b[0m\n\u001b[0m\u001b[0;32m    543\u001b[0m     \"\"\"\n\u001b[0;32m    544\u001b[0m     \u001b[0mCheck\u001b[0m \u001b[0mwhether\u001b[0m \u001b[0man\u001b[0m \u001b[0marray\u001b[0m\u001b[1;33m-\u001b[0m\u001b[0mlike\u001b[0m \u001b[1;32mor\u001b[0m \u001b[0mdtype\u001b[0m \u001b[1;32mis\u001b[0m \u001b[0mof\u001b[0m \u001b[0mthe\u001b[0m \u001b[0mCategorical\u001b[0m \u001b[0mdtype\u001b[0m\u001b[1;33m.\u001b[0m\u001b[1;33m\u001b[0m\u001b[1;33m\u001b[0m\u001b[0m\n",
      "\u001b[1;31mKeyboardInterrupt\u001b[0m: "
     ]
    }
   ],
   "source": [
    "conditions = pd.read_csv(\"conditions.csv\")\n",
    "patients = pd.read_csv(\"patients.csv\")\n",
    "observations = pd.read_csv(\"observations.csv\")\n",
    "care_plans = pd.read_csv(\"careplans.csv\")\n",
    "encounters = pd.read_csv(\"encounters.csv\")\n",
    "devices = pd.read_csv(\"devices.csv\")\n",
    "supplies = pd.read_csv('supplies.csv')\n",
    "procedures = pd.read_csv(\"procedures.csv\")\n",
    "medications = pd.read_csv(\"medications.csv\")"
   ]
  },
  {
   "cell_type": "code",
   "execution_count": 134,
   "metadata": {},
   "outputs": [
    {
     "output_type": "execute_result",
     "data": {
      "text/plain": "        START        STOP                               PATIENT  \\\n0  2019-02-15  2019-08-01  f0f3bc8d-ef38-49ce-a2bd-dfdda982b271   \n1  2019-10-30  2020-01-30  f0f3bc8d-ef38-49ce-a2bd-dfdda982b271   \n2  2020-03-01  2020-03-30  f0f3bc8d-ef38-49ce-a2bd-dfdda982b271   \n\n                              ENCOUNTER       CODE      DESCRIPTION  \n0  d5ee30a9-362f-429e-a87a-ee38d999b0a5   65363002     Otitis media  \n1  8bca6d8a-ab80-4cbf-8abb-46654235f227   65363002     Otitis media  \n2  681c380b-3c84-4c55-80a6-db3d9ea12fee  386661006  Fever (finding)  ",
      "text/html": "<div>\n<style scoped>\n    .dataframe tbody tr th:only-of-type {\n        vertical-align: middle;\n    }\n\n    .dataframe tbody tr th {\n        vertical-align: top;\n    }\n\n    .dataframe thead th {\n        text-align: right;\n    }\n</style>\n<table border=\"1\" class=\"dataframe\">\n  <thead>\n    <tr style=\"text-align: right;\">\n      <th></th>\n      <th>START</th>\n      <th>STOP</th>\n      <th>PATIENT</th>\n      <th>ENCOUNTER</th>\n      <th>CODE</th>\n      <th>DESCRIPTION</th>\n    </tr>\n  </thead>\n  <tbody>\n    <tr>\n      <th>0</th>\n      <td>2019-02-15</td>\n      <td>2019-08-01</td>\n      <td>f0f3bc8d-ef38-49ce-a2bd-dfdda982b271</td>\n      <td>d5ee30a9-362f-429e-a87a-ee38d999b0a5</td>\n      <td>65363002</td>\n      <td>Otitis media</td>\n    </tr>\n    <tr>\n      <th>1</th>\n      <td>2019-10-30</td>\n      <td>2020-01-30</td>\n      <td>f0f3bc8d-ef38-49ce-a2bd-dfdda982b271</td>\n      <td>8bca6d8a-ab80-4cbf-8abb-46654235f227</td>\n      <td>65363002</td>\n      <td>Otitis media</td>\n    </tr>\n    <tr>\n      <th>2</th>\n      <td>2020-03-01</td>\n      <td>2020-03-30</td>\n      <td>f0f3bc8d-ef38-49ce-a2bd-dfdda982b271</td>\n      <td>681c380b-3c84-4c55-80a6-db3d9ea12fee</td>\n      <td>386661006</td>\n      <td>Fever (finding)</td>\n    </tr>\n  </tbody>\n</table>\n</div>"
     },
     "metadata": {},
     "execution_count": 134
    }
   ],
   "source": [
    "conditions.head(3)"
   ]
  },
  {
   "cell_type": "code",
   "execution_count": 135,
   "metadata": {},
   "outputs": [],
   "source": [
    "covid_patient_ids = conditions[conditions.CODE == 840539006].PATIENT.unique()"
   ]
  },
  {
   "cell_type": "code",
   "execution_count": 136,
   "metadata": {},
   "outputs": [
    {
     "output_type": "execute_result",
     "data": {
      "text/plain": "8820"
     },
     "metadata": {},
     "execution_count": 136
    }
   ],
   "source": [
    "len(covid_patient_ids)"
   ]
  },
  {
   "cell_type": "code",
   "execution_count": 137,
   "metadata": {},
   "outputs": [],
   "source": [
    "deceased_patients = patients[patients.DEATHDATE.notna()].Id"
   ]
  },
  {
   "cell_type": "code",
   "execution_count": 138,
   "metadata": {},
   "outputs": [
    {
     "output_type": "execute_result",
     "data": {
      "text/plain": "2352"
     },
     "metadata": {},
     "execution_count": 138
    }
   ],
   "source": [
    "len(deceased_patients)"
   ]
  },
  {
   "cell_type": "code",
   "execution_count": 139,
   "metadata": {},
   "outputs": [],
   "source": [
    "deceased_patient_ids = deceased_patients.array.to_numpy()"
   ]
  },
  {
   "cell_type": "markdown",
   "metadata": {},
   "source": [
    "Find COVID-19 patients that have not died yet"
   ]
  },
  {
   "cell_type": "code",
   "execution_count": 140,
   "metadata": {},
   "outputs": [],
   "source": [
    "alive_covid_patients_id = np.setdiff1d(covid_patient_ids, deceased_patient_ids)"
   ]
  },
  {
   "cell_type": "code",
   "execution_count": 141,
   "metadata": {},
   "outputs": [],
   "source": [
    "conditions = conditions[conditions.PATIENT.isin(alive_covid_patients_id)]\n",
    "patients = patients[patients.Id.isin(alive_covid_patients_id)]\n",
    "observations = observations[observations.PATIENT.isin(alive_covid_patients_id)]\n",
    "care_plans = care_plans[care_plans.PATIENT.isin(alive_covid_patients_id)]\n",
    "encounters = encounters[encounters.PATIENT.isin(alive_covid_patients_id)]\n",
    "devices = devices[devices.PATIENT.isin(alive_covid_patients_id)]\n",
    "supplies = supplies[supplies.PATIENT.isin(alive_covid_patients_id)]\n",
    "procedures = procedures[procedures.PATIENT.isin(alive_covid_patients_id)]\n",
    "medications = medications[medications.PATIENT.isin(alive_covid_patients_id)]"
   ]
  },
  {
   "cell_type": "code",
   "execution_count": 142,
   "metadata": {
    "tags": []
   },
   "outputs": [],
   "source": [
    "conditions.to_csv('filtered_conditions.csv', index=False)\n",
    "patients.to_csv('filtered_patients.csv', index=False)\n",
    "observations.to_csv('filtered_observations.csv', index=False)\n",
    "care_plans.to_csv('filtered_care_plans.csv', index=False)\n",
    "encounters.to_csv('filtered_encounters.csv', index=False)\n",
    "devices.to_csv('filtered_devices.csv', index=False)\n",
    "supplies.to_csv('filtered_supplies.csv', index=False)\n",
    "procedures.to_csv('filtered_procedures.csv', index=False)\n",
    "medications.to_csv('filtered_medications.csv', index=False)\n"
   ]
  },
  {
   "cell_type": "code",
   "execution_count": 143,
   "metadata": {
    "tags": []
   },
   "outputs": [
    {
     "output_type": "stream",
     "name": "stdout",
     "text": "START        STOP                               PATIENT  \\\n0  2019-02-15  2019-08-01  f0f3bc8d-ef38-49ce-a2bd-dfdda982b271   \n\n                              ENCOUNTER      CODE   DESCRIPTION  \n0  d5ee30a9-362f-429e-a87a-ee38d999b0a5  65363002  Otitis media  \n"
    }
   ],
   "source": [
    "import category_encoders as ce\n",
    "print(conditions.head(1))\n",
    "conditionEncoder = ce.OneHotEncoder(cols=[\"DESCRIPTION\"], use_cat_names=True)"
   ]
  },
  {
   "cell_type": "code",
   "execution_count": 144,
   "metadata": {},
   "outputs": [],
   "source": [
    "encodedConditions = conditionEncoder.fit_transform(conditions['DESCRIPTION'])"
   ]
  },
  {
   "cell_type": "code",
   "execution_count": 145,
   "metadata": {},
   "outputs": [],
   "source": [
    "conditions = pd.concat([conditions, encodedConditions], axis=1)"
   ]
  },
  {
   "cell_type": "code",
   "execution_count": 146,
   "metadata": {},
   "outputs": [
    {
     "output_type": "execute_result",
     "data": {
      "text/plain": "                                      DESCRIPTION_Otitis media  \\\nPATIENT                                                          \n0000b247-1def-417a-a783-41c8682be022                         0   \n00049ee8-5953-4edd-a277-b9c1b1a7f16b                         0   \n\n                                      DESCRIPTION_Fever (finding)  \\\nPATIENT                                                             \n0000b247-1def-417a-a783-41c8682be022                            1   \n00049ee8-5953-4edd-a277-b9c1b1a7f16b                            1   \n\n                                      DESCRIPTION_Suspected COVID-19  \\\nPATIENT                                                                \n0000b247-1def-417a-a783-41c8682be022                               1   \n00049ee8-5953-4edd-a277-b9c1b1a7f16b                               1   \n\n                                      DESCRIPTION_COVID-19  \\\nPATIENT                                                      \n0000b247-1def-417a-a783-41c8682be022                     1   \n00049ee8-5953-4edd-a277-b9c1b1a7f16b                     1   \n\n                                      DESCRIPTION_Sprain of ankle  \\\nPATIENT                                                             \n0000b247-1def-417a-a783-41c8682be022                            0   \n00049ee8-5953-4edd-a277-b9c1b1a7f16b                            0   \n\n                                      DESCRIPTION_Cough (finding)  \\\nPATIENT                                                             \n0000b247-1def-417a-a783-41c8682be022                            1   \n00049ee8-5953-4edd-a277-b9c1b1a7f16b                            1   \n\n                                      DESCRIPTION_Sputum finding (finding)  \\\nPATIENT                                                                      \n0000b247-1def-417a-a783-41c8682be022                                     1   \n00049ee8-5953-4edd-a277-b9c1b1a7f16b                                     0   \n\n                                      DESCRIPTION_Diarrhea symptom (finding)  \\\nPATIENT                                                                        \n0000b247-1def-417a-a783-41c8682be022                                       0   \n00049ee8-5953-4edd-a277-b9c1b1a7f16b                                       0   \n\n                                      DESCRIPTION_Streptococcal sore throat (disorder)  \\\nPATIENT                                                                                  \n0000b247-1def-417a-a783-41c8682be022                                                 0   \n00049ee8-5953-4edd-a277-b9c1b1a7f16b                                                 0   \n\n                                      DESCRIPTION_Hypertension  ...  \\\nPATIENT                                                         ...   \n0000b247-1def-417a-a783-41c8682be022                         0  ...   \n00049ee8-5953-4edd-a277-b9c1b1a7f16b                         0  ...   \n\n                                      DESCRIPTION_Non-small cell carcinoma of lung  TNM stage 1 (disorder)  \\\nPATIENT                                                                                                      \n0000b247-1def-417a-a783-41c8682be022                                                  0                      \n00049ee8-5953-4edd-a277-b9c1b1a7f16b                                                  0                      \n\n                                      DESCRIPTION_Blindness due to type 2 diabetes mellitus (disorder)  \\\nPATIENT                                                                                                  \n0000b247-1def-417a-a783-41c8682be022                                                  0                  \n00049ee8-5953-4edd-a277-b9c1b1a7f16b                                                  0                  \n\n                                      DESCRIPTION_Male Infertility  \\\nPATIENT                                                              \n0000b247-1def-417a-a783-41c8682be022                             0   \n00049ee8-5953-4edd-a277-b9c1b1a7f16b                             0   \n\n                                      DESCRIPTION_Cystic Fibrosis  \\\nPATIENT                                                             \n0000b247-1def-417a-a783-41c8682be022                            0   \n00049ee8-5953-4edd-a277-b9c1b1a7f16b                            0   \n\n                                      DESCRIPTION_History of amputation of foot (situation)  \\\nPATIENT                                                                                       \n0000b247-1def-417a-a783-41c8682be022                                                  0       \n00049ee8-5953-4edd-a277-b9c1b1a7f16b                                                  0       \n\n                                      DESCRIPTION_Third degree burn  \\\nPATIENT                                                               \n0000b247-1def-417a-a783-41c8682be022                              0   \n00049ee8-5953-4edd-a277-b9c1b1a7f16b                              0   \n\n                                      DESCRIPTION_Acute Cholecystitis  \\\nPATIENT                                                                 \n0000b247-1def-417a-a783-41c8682be022                                0   \n00049ee8-5953-4edd-a277-b9c1b1a7f16b                                0   \n\n                                      DESCRIPTION_Cholelithiasis  \\\nPATIENT                                                            \n0000b247-1def-417a-a783-41c8682be022                           0   \n00049ee8-5953-4edd-a277-b9c1b1a7f16b                           0   \n\n                                      DESCRIPTION_Traumatic brain injury (disorder)  \\\nPATIENT                                                                               \n0000b247-1def-417a-a783-41c8682be022                                              0   \n00049ee8-5953-4edd-a277-b9c1b1a7f16b                                              0   \n\n                                      DESCRIPTION_Injury of kidney (disorder)  \nPATIENT                                                                        \n0000b247-1def-417a-a783-41c8682be022                                        0  \n00049ee8-5953-4edd-a277-b9c1b1a7f16b                                        0  \n\n[2 rows x 172 columns]",
      "text/html": "<div>\n<style scoped>\n    .dataframe tbody tr th:only-of-type {\n        vertical-align: middle;\n    }\n\n    .dataframe tbody tr th {\n        vertical-align: top;\n    }\n\n    .dataframe thead th {\n        text-align: right;\n    }\n</style>\n<table border=\"1\" class=\"dataframe\">\n  <thead>\n    <tr style=\"text-align: right;\">\n      <th></th>\n      <th>DESCRIPTION_Otitis media</th>\n      <th>DESCRIPTION_Fever (finding)</th>\n      <th>DESCRIPTION_Suspected COVID-19</th>\n      <th>DESCRIPTION_COVID-19</th>\n      <th>DESCRIPTION_Sprain of ankle</th>\n      <th>DESCRIPTION_Cough (finding)</th>\n      <th>DESCRIPTION_Sputum finding (finding)</th>\n      <th>DESCRIPTION_Diarrhea symptom (finding)</th>\n      <th>DESCRIPTION_Streptococcal sore throat (disorder)</th>\n      <th>DESCRIPTION_Hypertension</th>\n      <th>...</th>\n      <th>DESCRIPTION_Non-small cell carcinoma of lung  TNM stage 1 (disorder)</th>\n      <th>DESCRIPTION_Blindness due to type 2 diabetes mellitus (disorder)</th>\n      <th>DESCRIPTION_Male Infertility</th>\n      <th>DESCRIPTION_Cystic Fibrosis</th>\n      <th>DESCRIPTION_History of amputation of foot (situation)</th>\n      <th>DESCRIPTION_Third degree burn</th>\n      <th>DESCRIPTION_Acute Cholecystitis</th>\n      <th>DESCRIPTION_Cholelithiasis</th>\n      <th>DESCRIPTION_Traumatic brain injury (disorder)</th>\n      <th>DESCRIPTION_Injury of kidney (disorder)</th>\n    </tr>\n    <tr>\n      <th>PATIENT</th>\n      <th></th>\n      <th></th>\n      <th></th>\n      <th></th>\n      <th></th>\n      <th></th>\n      <th></th>\n      <th></th>\n      <th></th>\n      <th></th>\n      <th></th>\n      <th></th>\n      <th></th>\n      <th></th>\n      <th></th>\n      <th></th>\n      <th></th>\n      <th></th>\n      <th></th>\n      <th></th>\n      <th></th>\n    </tr>\n  </thead>\n  <tbody>\n    <tr>\n      <th>0000b247-1def-417a-a783-41c8682be022</th>\n      <td>0</td>\n      <td>1</td>\n      <td>1</td>\n      <td>1</td>\n      <td>0</td>\n      <td>1</td>\n      <td>1</td>\n      <td>0</td>\n      <td>0</td>\n      <td>0</td>\n      <td>...</td>\n      <td>0</td>\n      <td>0</td>\n      <td>0</td>\n      <td>0</td>\n      <td>0</td>\n      <td>0</td>\n      <td>0</td>\n      <td>0</td>\n      <td>0</td>\n      <td>0</td>\n    </tr>\n    <tr>\n      <th>00049ee8-5953-4edd-a277-b9c1b1a7f16b</th>\n      <td>0</td>\n      <td>1</td>\n      <td>1</td>\n      <td>1</td>\n      <td>0</td>\n      <td>1</td>\n      <td>0</td>\n      <td>0</td>\n      <td>0</td>\n      <td>0</td>\n      <td>...</td>\n      <td>0</td>\n      <td>0</td>\n      <td>0</td>\n      <td>0</td>\n      <td>0</td>\n      <td>0</td>\n      <td>0</td>\n      <td>0</td>\n      <td>0</td>\n      <td>0</td>\n    </tr>\n  </tbody>\n</table>\n<p>2 rows × 172 columns</p>\n</div>"
     },
     "metadata": {},
     "execution_count": 146
    }
   ],
   "source": [
    "aggregated_conditions = conditions.groupby('PATIENT').agg(sum)\n",
    "aggregated_conditions = aggregated_conditions.drop(columns=['CODE'])\n",
    "aggregated_conditions.head(2)"
   ]
  },
  {
   "cell_type": "markdown",
   "metadata": {},
   "source": [
    "Encode patient data"
   ]
  },
  {
   "cell_type": "code",
   "execution_count": 147,
   "metadata": {
    "tags": []
   },
   "outputs": [
    {
     "output_type": "execute_result",
     "data": {
      "text/plain": "                                     Id   BIRTHDATE DEATHDATE          SSN  \\\n0  f0f3bc8d-ef38-49ce-a2bd-dfdda982b271  2017-08-24       NaN  999-68-6630   \n1  067318a4-db8f-447f-8b6e-f2f61e9baaa5  2016-08-01       NaN  999-15-5895   \n\n  DRIVERS PASSPORT PREFIX       FIRST        LAST SUFFIX  ...  \\\n0     NaN      NaN    NaN  Jacinto644     Kris249    NaN  ...   \n1     NaN      NaN    NaN     Alva958  Krajcik437    NaN  ...   \n\n                     ADDRESS         CITY          STATE          COUNTY  \\\n0  888 Hickle Ferry Suite 38  Springfield  Massachusetts  Hampden County   \n1        1048 Skiles Trailer      Walpole  Massachusetts  Norfolk County   \n\n      ZIP        LAT        LON HEALTHCARE_EXPENSES HEALTHCARE_COVERAGE  AGE  \n0  1106.0  42.151961 -72.598959             8446.49             1499.08  3.0  \n1  2081.0  42.177370 -71.281353            89893.40             1845.72  4.0  \n\n[2 rows x 26 columns]",
      "text/html": "<div>\n<style scoped>\n    .dataframe tbody tr th:only-of-type {\n        vertical-align: middle;\n    }\n\n    .dataframe tbody tr th {\n        vertical-align: top;\n    }\n\n    .dataframe thead th {\n        text-align: right;\n    }\n</style>\n<table border=\"1\" class=\"dataframe\">\n  <thead>\n    <tr style=\"text-align: right;\">\n      <th></th>\n      <th>Id</th>\n      <th>BIRTHDATE</th>\n      <th>DEATHDATE</th>\n      <th>SSN</th>\n      <th>DRIVERS</th>\n      <th>PASSPORT</th>\n      <th>PREFIX</th>\n      <th>FIRST</th>\n      <th>LAST</th>\n      <th>SUFFIX</th>\n      <th>...</th>\n      <th>ADDRESS</th>\n      <th>CITY</th>\n      <th>STATE</th>\n      <th>COUNTY</th>\n      <th>ZIP</th>\n      <th>LAT</th>\n      <th>LON</th>\n      <th>HEALTHCARE_EXPENSES</th>\n      <th>HEALTHCARE_COVERAGE</th>\n      <th>AGE</th>\n    </tr>\n  </thead>\n  <tbody>\n    <tr>\n      <th>0</th>\n      <td>f0f3bc8d-ef38-49ce-a2bd-dfdda982b271</td>\n      <td>2017-08-24</td>\n      <td>NaN</td>\n      <td>999-68-6630</td>\n      <td>NaN</td>\n      <td>NaN</td>\n      <td>NaN</td>\n      <td>Jacinto644</td>\n      <td>Kris249</td>\n      <td>NaN</td>\n      <td>...</td>\n      <td>888 Hickle Ferry Suite 38</td>\n      <td>Springfield</td>\n      <td>Massachusetts</td>\n      <td>Hampden County</td>\n      <td>1106.0</td>\n      <td>42.151961</td>\n      <td>-72.598959</td>\n      <td>8446.49</td>\n      <td>1499.08</td>\n      <td>3.0</td>\n    </tr>\n    <tr>\n      <th>1</th>\n      <td>067318a4-db8f-447f-8b6e-f2f61e9baaa5</td>\n      <td>2016-08-01</td>\n      <td>NaN</td>\n      <td>999-15-5895</td>\n      <td>NaN</td>\n      <td>NaN</td>\n      <td>NaN</td>\n      <td>Alva958</td>\n      <td>Krajcik437</td>\n      <td>NaN</td>\n      <td>...</td>\n      <td>1048 Skiles Trailer</td>\n      <td>Walpole</td>\n      <td>Massachusetts</td>\n      <td>Norfolk County</td>\n      <td>2081.0</td>\n      <td>42.177370</td>\n      <td>-71.281353</td>\n      <td>89893.40</td>\n      <td>1845.72</td>\n      <td>4.0</td>\n    </tr>\n  </tbody>\n</table>\n<p>2 rows × 26 columns</p>\n</div>"
     },
     "metadata": {},
     "execution_count": 147
    }
   ],
   "source": [
    "now = pd.to_datetime('now')\n",
    "patients['AGE'] = ((now - pd.to_datetime(patients['BIRTHDATE'])).astype('<m8[Y]'))\n",
    "patients.head(2)"
   ]
  },
  {
   "cell_type": "code",
   "execution_count": 148,
   "metadata": {},
   "outputs": [
    {
     "output_type": "execute_result",
     "data": {
      "text/plain": "   RACE_white  RACE_native  RACE_asian  RACE_black  RACE_other\n0           1            0           0           0           0\n1           1            0           0           0           0",
      "text/html": "<div>\n<style scoped>\n    .dataframe tbody tr th:only-of-type {\n        vertical-align: middle;\n    }\n\n    .dataframe tbody tr th {\n        vertical-align: top;\n    }\n\n    .dataframe thead th {\n        text-align: right;\n    }\n</style>\n<table border=\"1\" class=\"dataframe\">\n  <thead>\n    <tr style=\"text-align: right;\">\n      <th></th>\n      <th>RACE_white</th>\n      <th>RACE_native</th>\n      <th>RACE_asian</th>\n      <th>RACE_black</th>\n      <th>RACE_other</th>\n    </tr>\n  </thead>\n  <tbody>\n    <tr>\n      <th>0</th>\n      <td>1</td>\n      <td>0</td>\n      <td>0</td>\n      <td>0</td>\n      <td>0</td>\n    </tr>\n    <tr>\n      <th>1</th>\n      <td>1</td>\n      <td>0</td>\n      <td>0</td>\n      <td>0</td>\n      <td>0</td>\n    </tr>\n  </tbody>\n</table>\n</div>"
     },
     "metadata": {},
     "execution_count": 148
    }
   ],
   "source": [
    "patientRaceEncoder = ce.OneHotEncoder(cols=[\"RACE\"], use_cat_names=True)\n",
    "encodedPatients = patientRaceEncoder.fit_transform(patients['RACE'])\n",
    "encodedPatients.head(2)"
   ]
  },
  {
   "cell_type": "code",
   "execution_count": 149,
   "metadata": {},
   "outputs": [],
   "source": [
    "patients = pd.concat([patients, encodedPatients], axis=1)"
   ]
  },
  {
   "cell_type": "code",
   "execution_count": 150,
   "metadata": {},
   "outputs": [
    {
     "output_type": "execute_result",
     "data": {
      "text/plain": "                                     Id   BIRTHDATE DEATHDATE          SSN  \\\n0  f0f3bc8d-ef38-49ce-a2bd-dfdda982b271  2017-08-24       NaN  999-68-6630   \n1  067318a4-db8f-447f-8b6e-f2f61e9baaa5  2016-08-01       NaN  999-15-5895   \n\n  DRIVERS PASSPORT PREFIX       FIRST        LAST SUFFIX  ...        LAT  \\\n0     NaN      NaN    NaN  Jacinto644     Kris249    NaN  ...  42.151961   \n1     NaN      NaN    NaN     Alva958  Krajcik437    NaN  ...  42.177370   \n\n         LON HEALTHCARE_EXPENSES HEALTHCARE_COVERAGE  AGE RACE_white  \\\n0 -72.598959             8446.49             1499.08  3.0          1   \n1 -71.281353            89893.40             1845.72  4.0          1   \n\n  RACE_native RACE_asian RACE_black RACE_other  \n0           0          0          0          0  \n1           0          0          0          0  \n\n[2 rows x 31 columns]",
      "text/html": "<div>\n<style scoped>\n    .dataframe tbody tr th:only-of-type {\n        vertical-align: middle;\n    }\n\n    .dataframe tbody tr th {\n        vertical-align: top;\n    }\n\n    .dataframe thead th {\n        text-align: right;\n    }\n</style>\n<table border=\"1\" class=\"dataframe\">\n  <thead>\n    <tr style=\"text-align: right;\">\n      <th></th>\n      <th>Id</th>\n      <th>BIRTHDATE</th>\n      <th>DEATHDATE</th>\n      <th>SSN</th>\n      <th>DRIVERS</th>\n      <th>PASSPORT</th>\n      <th>PREFIX</th>\n      <th>FIRST</th>\n      <th>LAST</th>\n      <th>SUFFIX</th>\n      <th>...</th>\n      <th>LAT</th>\n      <th>LON</th>\n      <th>HEALTHCARE_EXPENSES</th>\n      <th>HEALTHCARE_COVERAGE</th>\n      <th>AGE</th>\n      <th>RACE_white</th>\n      <th>RACE_native</th>\n      <th>RACE_asian</th>\n      <th>RACE_black</th>\n      <th>RACE_other</th>\n    </tr>\n  </thead>\n  <tbody>\n    <tr>\n      <th>0</th>\n      <td>f0f3bc8d-ef38-49ce-a2bd-dfdda982b271</td>\n      <td>2017-08-24</td>\n      <td>NaN</td>\n      <td>999-68-6630</td>\n      <td>NaN</td>\n      <td>NaN</td>\n      <td>NaN</td>\n      <td>Jacinto644</td>\n      <td>Kris249</td>\n      <td>NaN</td>\n      <td>...</td>\n      <td>42.151961</td>\n      <td>-72.598959</td>\n      <td>8446.49</td>\n      <td>1499.08</td>\n      <td>3.0</td>\n      <td>1</td>\n      <td>0</td>\n      <td>0</td>\n      <td>0</td>\n      <td>0</td>\n    </tr>\n    <tr>\n      <th>1</th>\n      <td>067318a4-db8f-447f-8b6e-f2f61e9baaa5</td>\n      <td>2016-08-01</td>\n      <td>NaN</td>\n      <td>999-15-5895</td>\n      <td>NaN</td>\n      <td>NaN</td>\n      <td>NaN</td>\n      <td>Alva958</td>\n      <td>Krajcik437</td>\n      <td>NaN</td>\n      <td>...</td>\n      <td>42.177370</td>\n      <td>-71.281353</td>\n      <td>89893.40</td>\n      <td>1845.72</td>\n      <td>4.0</td>\n      <td>1</td>\n      <td>0</td>\n      <td>0</td>\n      <td>0</td>\n      <td>0</td>\n    </tr>\n  </tbody>\n</table>\n<p>2 rows × 31 columns</p>\n</div>"
     },
     "metadata": {},
     "execution_count": 150
    }
   ],
   "source": [
    "patients.head(2)"
   ]
  },
  {
   "cell_type": "markdown",
   "metadata": {},
   "source": [
    "Merge Conditions and Patient details"
   ]
  },
  {
   "cell_type": "code",
   "execution_count": 164,
   "metadata": {},
   "outputs": [
    {
     "output_type": "execute_result",
     "data": {
      "text/plain": "                                     Id\n0  f0f3bc8d-ef38-49ce-a2bd-dfdda982b271\n1  067318a4-db8f-447f-8b6e-f2f61e9baaa5",
      "text/html": "<div>\n<style scoped>\n    .dataframe tbody tr th:only-of-type {\n        vertical-align: middle;\n    }\n\n    .dataframe tbody tr th {\n        vertical-align: top;\n    }\n\n    .dataframe thead th {\n        text-align: right;\n    }\n</style>\n<table border=\"1\" class=\"dataframe\">\n  <thead>\n    <tr style=\"text-align: right;\">\n      <th></th>\n      <th>Id</th>\n    </tr>\n  </thead>\n  <tbody>\n    <tr>\n      <th>0</th>\n      <td>f0f3bc8d-ef38-49ce-a2bd-dfdda982b271</td>\n    </tr>\n    <tr>\n      <th>1</th>\n      <td>067318a4-db8f-447f-8b6e-f2f61e9baaa5</td>\n    </tr>\n  </tbody>\n</table>\n</div>"
     },
     "metadata": {},
     "execution_count": 164
    }
   ],
   "source": [
    "patient_age = patients.drop(patients.columns.difference(['Id', 'AGE']), axis=1)\n",
    "patient_age.head(2)"
   ]
  },
  {
   "cell_type": "code",
   "execution_count": 152,
   "metadata": {},
   "outputs": [
    {
     "output_type": "execute_result",
     "data": {
      "text/plain": "   DESCRIPTION_Body Height  \\\n0                        1   \n1                        0   \n\n   DESCRIPTION_Pain severity - 0-10 verbal numeric rating [Score] - Reported  \\\n0                                                  0                           \n1                                                  1                           \n\n   DESCRIPTION_Body Weight  DESCRIPTION_Weight-for-length Per age and sex  \\\n0                        0                                              0   \n1                        0                                              0   \n\n   DESCRIPTION_Head Occipital-frontal circumference  \\\n0                                                 0   \n1                                                 0   \n\n   DESCRIPTION_Diastolic Blood Pressure  DESCRIPTION_Systolic Blood Pressure  \\\n0                                     0                                    0   \n1                                     0                                    0   \n\n   DESCRIPTION_Heart rate  DESCRIPTION_Respiratory rate  \\\n0                       0                             0   \n1                       0                             0   \n\n   DESCRIPTION_Body Mass Index  ...  DESCRIPTION_ALT (Elevated)  \\\n0                            0  ...                           0   \n1                            0  ...                           0   \n\n   DESCRIPTION_AST (Elevated)  DESCRIPTION_Anion Gap  DESCRIPTION_Protein  \\\n0                           0                      0                    0   \n1                           0                      0                    0   \n\n   DESCRIPTION_Albumin  DESCRIPTION_Globulin  \\\n0                    0                     0   \n1                    0                     0   \n\n   DESCRIPTION_Alkaline Phosphatase  \\\n0                                 0   \n1                                 0   \n\n   DESCRIPTION_Lymph nodes with micrometastases [#] in Cancer specimen by Light microscopy  \\\n0                                                  0                                         \n1                                                  0                                         \n\n   DESCRIPTION_PROMIS-10 Global Mental Health (GMH) score  \\\n0                                                  0        \n1                                                  0        \n\n   DESCRIPTION_PROMIS-10 Global Physical Health (GPH) score  \n0                                                  0         \n1                                                  0         \n\n[2 rows x 155 columns]",
      "text/html": "<div>\n<style scoped>\n    .dataframe tbody tr th:only-of-type {\n        vertical-align: middle;\n    }\n\n    .dataframe tbody tr th {\n        vertical-align: top;\n    }\n\n    .dataframe thead th {\n        text-align: right;\n    }\n</style>\n<table border=\"1\" class=\"dataframe\">\n  <thead>\n    <tr style=\"text-align: right;\">\n      <th></th>\n      <th>DESCRIPTION_Body Height</th>\n      <th>DESCRIPTION_Pain severity - 0-10 verbal numeric rating [Score] - Reported</th>\n      <th>DESCRIPTION_Body Weight</th>\n      <th>DESCRIPTION_Weight-for-length Per age and sex</th>\n      <th>DESCRIPTION_Head Occipital-frontal circumference</th>\n      <th>DESCRIPTION_Diastolic Blood Pressure</th>\n      <th>DESCRIPTION_Systolic Blood Pressure</th>\n      <th>DESCRIPTION_Heart rate</th>\n      <th>DESCRIPTION_Respiratory rate</th>\n      <th>DESCRIPTION_Body Mass Index</th>\n      <th>...</th>\n      <th>DESCRIPTION_ALT (Elevated)</th>\n      <th>DESCRIPTION_AST (Elevated)</th>\n      <th>DESCRIPTION_Anion Gap</th>\n      <th>DESCRIPTION_Protein</th>\n      <th>DESCRIPTION_Albumin</th>\n      <th>DESCRIPTION_Globulin</th>\n      <th>DESCRIPTION_Alkaline Phosphatase</th>\n      <th>DESCRIPTION_Lymph nodes with micrometastases [#] in Cancer specimen by Light microscopy</th>\n      <th>DESCRIPTION_PROMIS-10 Global Mental Health (GMH) score</th>\n      <th>DESCRIPTION_PROMIS-10 Global Physical Health (GPH) score</th>\n    </tr>\n  </thead>\n  <tbody>\n    <tr>\n      <th>0</th>\n      <td>1</td>\n      <td>0</td>\n      <td>0</td>\n      <td>0</td>\n      <td>0</td>\n      <td>0</td>\n      <td>0</td>\n      <td>0</td>\n      <td>0</td>\n      <td>0</td>\n      <td>...</td>\n      <td>0</td>\n      <td>0</td>\n      <td>0</td>\n      <td>0</td>\n      <td>0</td>\n      <td>0</td>\n      <td>0</td>\n      <td>0</td>\n      <td>0</td>\n      <td>0</td>\n    </tr>\n    <tr>\n      <th>1</th>\n      <td>0</td>\n      <td>1</td>\n      <td>0</td>\n      <td>0</td>\n      <td>0</td>\n      <td>0</td>\n      <td>0</td>\n      <td>0</td>\n      <td>0</td>\n      <td>0</td>\n      <td>...</td>\n      <td>0</td>\n      <td>0</td>\n      <td>0</td>\n      <td>0</td>\n      <td>0</td>\n      <td>0</td>\n      <td>0</td>\n      <td>0</td>\n      <td>0</td>\n      <td>0</td>\n    </tr>\n  </tbody>\n</table>\n<p>2 rows × 155 columns</p>\n</div>"
     },
     "metadata": {},
     "execution_count": 152
    }
   ],
   "source": [
    "obsVals = observations[observations.TYPE != 'text']\n",
    "obsrvEncoder = ce.OneHotEncoder(cols=[\"DESCRIPTION\"], use_cat_names=True)\n",
    "encodedObs = obsrvEncoder.fit_transform(test['DESCRIPTION'])\n",
    "encodedObs.head(2)"
   ]
  },
  {
   "cell_type": "code",
   "execution_count": 153,
   "metadata": {},
   "outputs": [],
   "source": [
    "obsVals = pd.concat([obsVals, encodedObs], axis=1)\n"
   ]
  },
  {
   "cell_type": "code",
   "execution_count": 156,
   "metadata": {},
   "outputs": [
    {
     "output_type": "error",
     "ename": "NameError",
     "evalue": "name 'obsVals' is not defined",
     "traceback": [
      "\u001b[1;31m---------------------------------------------------------------------------\u001b[0m",
      "\u001b[1;31mNameError\u001b[0m                                 Traceback (most recent call last)",
      "\u001b[1;32m<ipython-input-156-2c8fc4544d03>\u001b[0m in \u001b[0;36m<module>\u001b[1;34m\u001b[0m\n\u001b[1;32m----> 1\u001b[1;33m \u001b[0mobsVals\u001b[0m\u001b[1;33m.\u001b[0m\u001b[0mhead\u001b[0m\u001b[1;33m(\u001b[0m\u001b[1;36m2\u001b[0m\u001b[1;33m)\u001b[0m\u001b[1;33m\u001b[0m\u001b[1;33m\u001b[0m\u001b[0m\n\u001b[0m",
      "\u001b[1;31mNameError\u001b[0m: name 'obsVals' is not defined"
     ]
    }
   ],
   "source": [
    "obsVals.head(2)"
   ]
  },
  {
   "cell_type": "code",
   "execution_count": 155,
   "metadata": {},
   "outputs": [],
   "source": []
  },
  {
   "cell_type": "code",
   "execution_count": null,
   "metadata": {},
   "outputs": [],
   "source": []
  }
 ]
}