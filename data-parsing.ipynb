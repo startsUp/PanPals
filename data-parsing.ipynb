{
 "metadata": {
  "language_info": {
   "codemirror_mode": {
    "name": "ipython",
    "version": 3
   },
   "file_extension": ".py",
   "mimetype": "text/x-python",
   "name": "python",
   "nbconvert_exporter": "python",
   "pygments_lexer": "ipython3",
   "version": "3.8.3-final"
  },
  "orig_nbformat": 2,
  "kernelspec": {
   "name": "python38364bit093203a1fc624b1cab657f67554d31b3",
   "display_name": "Python 3.8.3 64-bit"
  }
 },
 "nbformat": 4,
 "nbformat_minor": 2,
 "cells": [
  {
   "cell_type": "code",
   "execution_count": 1,
   "metadata": {},
   "outputs": [],
   "source": [
    "import pandas as pd\n",
    "import numpy as np\n",
    "import matplotlib.pyplot as plt\n",
    "import matplotlib.ticker as ticker\n",
    "import seaborn as sns\n",
    "import datetime\n"
   ]
  },
  {
   "cell_type": "code",
   "execution_count": 3,
   "metadata": {},
   "outputs": [],
   "source": [
    "%matplotlib inline"
   ]
  },
  {
   "cell_type": "code",
   "execution_count": 4,
   "metadata": {},
   "outputs": [],
   "source": [
    "%config InlineBackend.figure_format = 'retina'"
   ]
  },
  {
   "cell_type": "code",
   "execution_count": 5,
   "metadata": {},
   "outputs": [],
   "source": [
    "%load_ext autoreload"
   ]
  },
  {
   "cell_type": "code",
   "execution_count": 6,
   "metadata": {},
   "outputs": [],
   "source": [
    "%autoreload 1"
   ]
  },
  {
   "cell_type": "code",
   "execution_count": 7,
   "metadata": {},
   "outputs": [],
   "source": [
    "%aimport analysis"
   ]
  },
  {
   "cell_type": "code",
   "execution_count": 8,
   "metadata": {},
   "outputs": [],
   "source": [
    "conditions = pd.read_csv(\"conditions.csv\")\n",
    "patients = pd.read_csv(\"patients.csv\")\n",
    "observations = pd.read_csv(\"observations.csv\")\n",
    "care_plans = pd.read_csv(\"careplans.csv\")\n",
    "encounters = pd.read_csv(\"encounters.csv\")\n",
    "devices = pd.read_csv(\"devices.csv\")\n",
    "supplies = pd.read_csv('supplies.csv')\n",
    "procedures = pd.read_csv(\"procedures.csv\")\n",
    "medications = pd.read_csv(\"medications.csv\")"
   ]
  },
  {
   "cell_type": "code",
   "execution_count": 9,
   "metadata": {},
   "outputs": [
    {
     "output_type": "execute_result",
     "data": {
      "text/plain": "        START        STOP                               PATIENT  \\\n0  2019-02-15  2019-08-01  f0f3bc8d-ef38-49ce-a2bd-dfdda982b271   \n1  2019-10-30  2020-01-30  f0f3bc8d-ef38-49ce-a2bd-dfdda982b271   \n2  2020-03-01  2020-03-30  f0f3bc8d-ef38-49ce-a2bd-dfdda982b271   \n\n                              ENCOUNTER       CODE      DESCRIPTION  \n0  d5ee30a9-362f-429e-a87a-ee38d999b0a5   65363002     Otitis media  \n1  8bca6d8a-ab80-4cbf-8abb-46654235f227   65363002     Otitis media  \n2  681c380b-3c84-4c55-80a6-db3d9ea12fee  386661006  Fever (finding)  ",
      "text/html": "<div>\n<style scoped>\n    .dataframe tbody tr th:only-of-type {\n        vertical-align: middle;\n    }\n\n    .dataframe tbody tr th {\n        vertical-align: top;\n    }\n\n    .dataframe thead th {\n        text-align: right;\n    }\n</style>\n<table border=\"1\" class=\"dataframe\">\n  <thead>\n    <tr style=\"text-align: right;\">\n      <th></th>\n      <th>START</th>\n      <th>STOP</th>\n      <th>PATIENT</th>\n      <th>ENCOUNTER</th>\n      <th>CODE</th>\n      <th>DESCRIPTION</th>\n    </tr>\n  </thead>\n  <tbody>\n    <tr>\n      <th>0</th>\n      <td>2019-02-15</td>\n      <td>2019-08-01</td>\n      <td>f0f3bc8d-ef38-49ce-a2bd-dfdda982b271</td>\n      <td>d5ee30a9-362f-429e-a87a-ee38d999b0a5</td>\n      <td>65363002</td>\n      <td>Otitis media</td>\n    </tr>\n    <tr>\n      <th>1</th>\n      <td>2019-10-30</td>\n      <td>2020-01-30</td>\n      <td>f0f3bc8d-ef38-49ce-a2bd-dfdda982b271</td>\n      <td>8bca6d8a-ab80-4cbf-8abb-46654235f227</td>\n      <td>65363002</td>\n      <td>Otitis media</td>\n    </tr>\n    <tr>\n      <th>2</th>\n      <td>2020-03-01</td>\n      <td>2020-03-30</td>\n      <td>f0f3bc8d-ef38-49ce-a2bd-dfdda982b271</td>\n      <td>681c380b-3c84-4c55-80a6-db3d9ea12fee</td>\n      <td>386661006</td>\n      <td>Fever (finding)</td>\n    </tr>\n  </tbody>\n</table>\n</div>"
     },
     "metadata": {},
     "execution_count": 9
    }
   ],
   "source": [
    "conditions.head(3)"
   ]
  },
  {
   "cell_type": "code",
   "execution_count": 10,
   "metadata": {},
   "outputs": [],
   "source": [
    "covid_patient_ids = conditions[conditions.CODE == 840539006].PATIENT.unique()"
   ]
  },
  {
   "cell_type": "code",
   "execution_count": 11,
   "metadata": {},
   "outputs": [
    {
     "output_type": "execute_result",
     "data": {
      "text/plain": "8820"
     },
     "metadata": {},
     "execution_count": 11
    }
   ],
   "source": [
    "len(covid_patient_ids)"
   ]
  },
  {
   "cell_type": "code",
   "execution_count": 22,
   "metadata": {},
   "outputs": [],
   "source": [
    "deceased_patients = patients[patients.DEATHDATE.notna()].Id"
   ]
  },
  {
   "cell_type": "code",
   "execution_count": 28,
   "metadata": {},
   "outputs": [
    {
     "output_type": "execute_result",
     "data": {
      "text/plain": "2352"
     },
     "metadata": {},
     "execution_count": 28
    }
   ],
   "source": [
    "len(deceased_patients)"
   ]
  },
  {
   "cell_type": "code",
   "execution_count": 43,
   "metadata": {},
   "outputs": [],
   "source": [
    "deceased_patient_ids = deceased_patient.array.to_numpy()"
   ]
  },
  {
   "cell_type": "markdown",
   "metadata": {},
   "source": [
    "Find COVID-19 patients that have not died yet"
   ]
  },
  {
   "cell_type": "code",
   "execution_count": 45,
   "metadata": {},
   "outputs": [],
   "source": [
    "alive_covid_patients_id = np.setdiff1d(covid_patient_ids, deceased_patient_ids)"
   ]
  },
  {
   "cell_type": "code",
   "execution_count": 56,
   "metadata": {},
   "outputs": [],
   "source": [
    "conditions = conditions[conditions.PATIENT.isin(alive_covid_patients_id)]\n",
    "patients = patients[patients.Id.isin(alive_covid_patients_id)]\n",
    "observations = observations[observations.PATIENT.isin(alive_covid_patients_id)]\n",
    "care_plans = care_plans[care_plans.PATIENT.isin(alive_covid_patients_id)]\n",
    "encounters = encounters[encounters.PATIENT.isin(alive_covid_patients_id)]\n",
    "devices = devices[devices.PATIENT.isin(alive_covid_patients_id)]\n",
    "supplies = supplies[supplies.PATIENT.isin(alive_covid_patients_id)]\n",
    "procedures = procedures[procedures.PATIENT.isin(alive_covid_patients_id)]\n",
    "medications = medications[medications.PATIENT.isin(alive_covid_patients_id)]"
   ]
  },
  {
   "cell_type": "code",
   "execution_count": 61,
   "metadata": {
    "tags": []
   },
   "outputs": [],
   "source": [
    "conditions.to_csv('filtered_conditions.csv', index=False)\n",
    "patients.to_csv('filtered_patients.csv', index=False)\n",
    "observations.to_csv('filtered_observations.csv', index=False)\n",
    "care_plans.to_csv('filtered_care_plans.csv', index=False)\n",
    "encounters.to_csv('filtered_encounters.csv', index=False)\n",
    "devices.to_csv('filtered_devices.csv', index=False)\n",
    "supplies.to_csv('filtered_supplies.csv', index=False)\n",
    "procedures.to_csv('filtered_procedures.csv', index=False)\n",
    "medications.to_csv('filtered_medications.csv', index=False)\n"
   ]
  },
  {
   "cell_type": "code",
   "execution_count": null,
   "metadata": {},
   "outputs": [],
   "source": []
  }
 ]
}