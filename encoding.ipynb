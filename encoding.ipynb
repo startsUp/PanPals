{
 "metadata": {
  "language_info": {
   "codemirror_mode": {
    "name": "ipython",
    "version": 3
   },
   "file_extension": ".py",
   "mimetype": "text/x-python",
   "name": "python",
   "nbconvert_exporter": "python",
   "pygments_lexer": "ipython3",
   "version": "3.8.3-final"
  },
  "orig_nbformat": 2,
  "kernelspec": {
   "name": "python38364bit093203a1fc624b1cab657f67554d31b3",
   "display_name": "Python 3.8.3 64-bit"
  }
 },
 "nbformat": 4,
 "nbformat_minor": 2,
 "cells": [
  {
   "cell_type": "code",
   "execution_count": 1,
   "metadata": {},
   "outputs": [],
   "source": [
    "import pandas as pd\n",
    "import numpy as np\n",
    "import matplotlib.pyplot as plt\n",
    "import matplotlib.ticker as ticker\n",
    "import seaborn as sns\n",
    "import datetime\n",
    "import category_encoders as ce"
   ]
  },
  {
   "cell_type": "code",
   "execution_count": 44,
   "metadata": {},
   "outputs": [],
   "source": [
    "conditions = pd.read_csv(\"filtered_conditions.csv\")\n",
    "patients = pd.read_csv(\"filtered_patients.csv\")\n",
    "observations = pd.read_csv(\"filtered_observations.csv\")\n",
    "care_plans = pd.read_csv(\"filtered_care_plans.csv\")\n",
    "encounters = pd.read_csv(\"filtered_encounters.csv\")\n",
    "devices = pd.read_csv(\"filtered_devices.csv\")\n",
    "supplies = pd.read_csv('filtered_supplies.csv')\n",
    "procedures = pd.read_csv(\"filtered_procedures.csv\")\n",
    "medications = pd.read_csv(\"filtered_medications.csv\")\n",
    "conditionScores = pd.read_csv(\"condition-scores.csv\")\n",
    "conditionScores = conditionScores.set_index('conditions')"
   ]
  },
  {
   "cell_type": "code",
   "execution_count": 45,
   "metadata": {
    "tags": []
   },
   "outputs": [
    {
     "output_type": "execute_result",
     "data": {
      "text/plain": "Index(['PATIENT', 'DESCRIPTION'], dtype='object')"
     },
     "metadata": {},
     "execution_count": 45
    }
   ],
   "source": [
    "import functools as ft\n",
    "def conditionScoreAgg(series):\n",
    "    nD = 0\n",
    "    for i in series:\n",
    "        if (conditionScores.at[i, 'category 1'] == 'diabetes'):\n",
    "            nD+=1\n",
    "    score = 0 if nD == 0 else (nD*0.2) + 3.8 # diabetes score\n",
    "    for i in series:\n",
    "        if (conditionScores.at[i, 'category 1'] != 'diabetes'):\n",
    "            score += conditionScores.at[i, 'score']  \n",
    "    return score\n",
    "conditions = conditions.groupby(['PATIENT'], as_index=False).agg({'DESCRIPTION': conditionScoreAgg})\n",
    "conditions.columns\n"
   ]
  },
  {
   "cell_type": "code",
   "execution_count": 46,
   "metadata": {},
   "outputs": [
    {
     "output_type": "execute_result",
     "data": {
      "text/plain": "   RACE_white  RACE_native  RACE_asian  RACE_black  RACE_other\n0           1            0           0           0           0\n1           1            0           0           0           0",
      "text/html": "<div>\n<style scoped>\n    .dataframe tbody tr th:only-of-type {\n        vertical-align: middle;\n    }\n\n    .dataframe tbody tr th {\n        vertical-align: top;\n    }\n\n    .dataframe thead th {\n        text-align: right;\n    }\n</style>\n<table border=\"1\" class=\"dataframe\">\n  <thead>\n    <tr style=\"text-align: right;\">\n      <th></th>\n      <th>RACE_white</th>\n      <th>RACE_native</th>\n      <th>RACE_asian</th>\n      <th>RACE_black</th>\n      <th>RACE_other</th>\n    </tr>\n  </thead>\n  <tbody>\n    <tr>\n      <th>0</th>\n      <td>1</td>\n      <td>0</td>\n      <td>0</td>\n      <td>0</td>\n      <td>0</td>\n    </tr>\n    <tr>\n      <th>1</th>\n      <td>1</td>\n      <td>0</td>\n      <td>0</td>\n      <td>0</td>\n      <td>0</td>\n    </tr>\n  </tbody>\n</table>\n</div>"
     },
     "metadata": {},
     "execution_count": 46
    }
   ],
   "source": [
    "now = pd.to_datetime('now')\n",
    "patients['AGE'] = ((now - pd.to_datetime(patients['BIRTHDATE'])).astype('<m8[Y]'))\n",
    "patients.head(2)\n",
    "patientRaceEncoder = ce.OneHotEncoder(cols=[\"RACE\"], use_cat_names=True)\n",
    "encodedPatients = patientRaceEncoder.fit_transform(patients['RACE'])\n",
    "encodedPatients.head(2)"
   ]
  },
  {
   "cell_type": "code",
   "execution_count": 47,
   "metadata": {},
   "outputs": [
    {
     "output_type": "execute_result",
     "data": {
      "text/plain": "                                     Id     ZIP  AGE\n0  f0f3bc8d-ef38-49ce-a2bd-dfdda982b271  1106.0  3.0\n1  067318a4-db8f-447f-8b6e-f2f61e9baaa5  2081.0  4.0",
      "text/html": "<div>\n<style scoped>\n    .dataframe tbody tr th:only-of-type {\n        vertical-align: middle;\n    }\n\n    .dataframe tbody tr th {\n        vertical-align: top;\n    }\n\n    .dataframe thead th {\n        text-align: right;\n    }\n</style>\n<table border=\"1\" class=\"dataframe\">\n  <thead>\n    <tr style=\"text-align: right;\">\n      <th></th>\n      <th>Id</th>\n      <th>ZIP</th>\n      <th>AGE</th>\n    </tr>\n  </thead>\n  <tbody>\n    <tr>\n      <th>0</th>\n      <td>f0f3bc8d-ef38-49ce-a2bd-dfdda982b271</td>\n      <td>1106.0</td>\n      <td>3.0</td>\n    </tr>\n    <tr>\n      <th>1</th>\n      <td>067318a4-db8f-447f-8b6e-f2f61e9baaa5</td>\n      <td>2081.0</td>\n      <td>4.0</td>\n    </tr>\n  </tbody>\n</table>\n</div>"
     },
     "metadata": {},
     "execution_count": 47
    }
   ],
   "source": [
    "patient_details = patients.drop(patients.columns.difference(['Id', 'AGE', 'ZIP']), axis=1)\n",
    "patient_details.head(2)"
   ]
  },
  {
   "cell_type": "code",
   "execution_count": 56,
   "metadata": {
    "tags": []
   },
   "outputs": [
    {
     "output_type": "execute_result",
     "data": {
      "text/plain": "                                     Id  Condition_Rank          Zip   Age\n0  0000b247-1def-417a-a783-41c8682be022             9.0  1997.325872  12.0\n1  00049ee8-5953-4edd-a277-b9c1b1a7f16b            15.0  1997.325872  35.0\n2  00079a57-24a8-430f-b4f8-a1cf34f90060            24.0  1230.000000  29.0",
      "text/html": "<div>\n<style scoped>\n    .dataframe tbody tr th:only-of-type {\n        vertical-align: middle;\n    }\n\n    .dataframe tbody tr th {\n        vertical-align: top;\n    }\n\n    .dataframe thead th {\n        text-align: right;\n    }\n</style>\n<table border=\"1\" class=\"dataframe\">\n  <thead>\n    <tr style=\"text-align: right;\">\n      <th></th>\n      <th>Id</th>\n      <th>Condition_Rank</th>\n      <th>Zip</th>\n      <th>Age</th>\n    </tr>\n  </thead>\n  <tbody>\n    <tr>\n      <th>0</th>\n      <td>0000b247-1def-417a-a783-41c8682be022</td>\n      <td>9.0</td>\n      <td>1997.325872</td>\n      <td>12.0</td>\n    </tr>\n    <tr>\n      <th>1</th>\n      <td>00049ee8-5953-4edd-a277-b9c1b1a7f16b</td>\n      <td>15.0</td>\n      <td>1997.325872</td>\n      <td>35.0</td>\n    </tr>\n    <tr>\n      <th>2</th>\n      <td>00079a57-24a8-430f-b4f8-a1cf34f90060</td>\n      <td>24.0</td>\n      <td>1230.000000</td>\n      <td>29.0</td>\n    </tr>\n  </tbody>\n</table>\n</div>"
     },
     "metadata": {},
     "execution_count": 56
    }
   ],
   "source": [
    "conditions.columns = ['Id', 'Condition_Rank']\n",
    "patient_details.columns = ['Id', 'Zip', 'Age']\n",
    "# patient_details.Id = patient_details.Id.astype(str)\n",
    "# conditions.reset_index()\n",
    "# print(patient_details.columns)\n",
    "aggregate = conditions.merge(patient_details, on='Id')\n",
    "aggregate['Zip'] = aggregate['Zip'].fillna(aggregate.Zip.mean())\n",
    "aggregate.head(3)"
   ]
  },
  {
   "cell_type": "markdown",
   "metadata": {},
   "source": [
    "Create final dataset for model"
   ]
  },
  {
   "cell_type": "code",
   "execution_count": 57,
   "metadata": {},
   "outputs": [],
   "source": [
    "aggregate.to_csv('clustering_patient_dataset.csv')"
   ]
  },
  {
   "cell_type": "code",
   "execution_count": null,
   "metadata": {},
   "outputs": [],
   "source": []
  }
 ]
}